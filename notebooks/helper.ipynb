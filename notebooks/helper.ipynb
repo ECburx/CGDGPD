{
 "cells": [
  {
   "cell_type": "code",
   "execution_count": null,
   "id": "initial_id",
   "metadata": {
    "collapsed": true
   },
   "outputs": [],
   "source": [
    "import shutil\n",
    "from pathlib import Path\n",
    "\n",
    "import pandas as pd\n",
    "from Bio.PDB import PDBParser, PDBIO\n",
    "from Bio.PDB.Polypeptide import one_to_three\n",
    "\n",
    "\n",
    "def extract_num(p: Path):\n",
    "    return int(p.stem.split('_')[-1])"
   ]
  },
  {
   "cell_type": "code",
   "outputs": [],
   "source": [
    "input_path = Path(\"/home/tz365/WS/se3_diffusion/sample_output/se3-ras\")\n",
    "output_path = Path(\"/home/tz365/WS/PROTEVAL/data/RAS/generated\")\n",
    "method = \"SM\"\n",
    "\n",
    "(output_path / \"B\").mkdir(exist_ok=False)\n",
    "(output_path / \"Q\").mkdir(exist_ok=False)\n",
    "(output_path / \"BQ\").mkdir(exist_ok=False)\n",
    "\n",
    "for i, s in enumerate(sorted(input_path.iterdir())):\n",
    "    for ss in s.glob(\"length_*\"):\n",
    "        s = ss / \"sample_0\"\n",
    "        print(i, s)\n",
    "\n",
    "        # -> B\n",
    "        aa_pdb = output_path / f\"B/{method}_{i}.pdb\"\n",
    "        shutil.copy(s / \"sample_1.pdb\", aa_pdb)\n",
    "\n",
    "        # -> Q\n",
    "        sc_results = pd.read_csv(s / \"self_consistency\" / \"sc_results.csv\")\n",
    "        best_sequence = sc_results.loc[sc_results['tm_score'].idxmax(), 'sequence']\n",
    "        with open(output_path / f\"Q/{method}_{i}.fasta\", \"w\") as f:\n",
    "            f.write(f\">{method}_{i}\\n\")\n",
    "            f.write(best_sequence)\n",
    "\n",
    "        # -> BQ\n",
    "        bq_pdb = output_path / f\"BQ/{method}_{i}.pdb\"\n",
    "        structure = PDBParser(QUIET=True).get_structure(\"prot\", aa_pdb)\n",
    "        chain = next(structure.get_chains())\n",
    "        for res, aa in zip(chain, best_sequence):\n",
    "            res.resname = one_to_three(aa)\n",
    "        io = PDBIO()\n",
    "        io.set_structure(structure)\n",
    "        io.save(str(bq_pdb))\n",
    "\n",
    "        # -> BQS\n",
    "        # -> BQSH"
   ],
   "metadata": {
    "collapsed": false
   },
   "id": "d36e96324575a6af",
   "execution_count": null
  },
  {
   "cell_type": "code",
   "outputs": [],
   "source": [
    "input_path = Path(\"/home/tz365/WS/FoldFlow/sample_output/ff-ras-ot\")\n",
    "output_path = Path(\"/home/tz365/WS/PROTEVAL/data/RAS/generated\")\n",
    "method = \"FM\"\n",
    "\n",
    "assert (output_path / \"B\").exists()\n",
    "assert (output_path / \"Q\").exists()\n",
    "assert (output_path / \"BQ\").exists()\n",
    "\n",
    "i = 0\n",
    "for s in sorted(input_path.glob(\"length_*\"), key=extract_num):\n",
    "    for ss in sorted(s.glob(\"sample_*\")):\n",
    "        print(i, ss)\n",
    "\n",
    "        # -> B\n",
    "        aa_pdb = output_path / f\"B/{method}_{i}.pdb\"\n",
    "        shutil.copy(ss / \"sample_1.pdb\", aa_pdb)\n",
    "\n",
    "        # -> Q\n",
    "        sc_results = pd.read_csv(ss / \"self_consistency\" / \"sc_results.csv\")\n",
    "        best_sequence = sc_results.loc[sc_results['tm_score'].idxmax(), 'sequence']\n",
    "        with open(output_path / f\"Q/{method}_{i}.fasta\", \"w\") as f:\n",
    "            f.write(f\">{method}_{i}\\n\")\n",
    "            f.write(best_sequence)\n",
    "\n",
    "        # -> BQ\n",
    "        bq_pdb = output_path / f\"BQ/{method}_{i}.pdb\"\n",
    "        structure = PDBParser(QUIET=True).get_structure(\"prot\", aa_pdb)\n",
    "        chain = next(structure.get_chains())\n",
    "        for res, aa in zip(chain, best_sequence):\n",
    "            res.resname = one_to_three(aa)\n",
    "        io = PDBIO()\n",
    "        io.set_structure(structure)\n",
    "        io.save(str(bq_pdb))\n",
    "\n",
    "        # -> BQS\n",
    "        # -> BQSH\n",
    "        i += 1"
   ],
   "metadata": {
    "collapsed": false
   },
   "id": "5604f10d1339c28a",
   "execution_count": null
  },
  {
   "cell_type": "code",
   "outputs": [],
   "source": [],
   "metadata": {
    "collapsed": false
   },
   "id": "555f12084b4dfe0f",
   "execution_count": null
  }
 ],
 "metadata": {
  "kernelspec": {
   "display_name": "Python 3",
   "language": "python",
   "name": "python3"
  },
  "language_info": {
   "codemirror_mode": {
    "name": "ipython",
    "version": 2
   },
   "file_extension": ".py",
   "mimetype": "text/x-python",
   "name": "python",
   "nbconvert_exporter": "python",
   "pygments_lexer": "ipython2",
   "version": "2.7.6"
  }
 },
 "nbformat": 4,
 "nbformat_minor": 5
}
