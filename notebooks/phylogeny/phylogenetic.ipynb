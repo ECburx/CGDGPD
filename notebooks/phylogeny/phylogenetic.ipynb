{
 "cells": [
  {
   "cell_type": "markdown",
   "source": [
    "# Structural Phylogenetic"
   ],
   "metadata": {
    "collapsed": false
   },
   "id": "6b865dbc7e89ea9a"
  },
  {
   "cell_type": "code",
   "outputs": [],
   "source": [
    "import shutil\n",
    "from pathlib import Path\n",
    "import pandas as pd\n",
    "\n",
    "def get_paths(protcode=\"BLDB\"):\n",
    "    paths, names = [], []\n",
    "\n",
    "    ref_path = Path(f\"../../data/{protcode}_ref.csv\")\n",
    "    ref_meta = pd.read_csv(ref_path)\n",
    "    for entry, asym in zip(list(ref_meta[\"Entry ID\"]), list(ref_meta[\"Auth Asym ID\"])):\n",
    "        p = Path(f\"../../data/{protcode}/processed/{entry}_{asym}.pdb\")\n",
    "        if p.exists():\n",
    "            paths.append(p)\n",
    "            names.append(f\"{protcode}_{p.stem}\")\n",
    "\n",
    "    for p in Path(f\"../../data/{protcode}/generated/BQS\").glob(\"*.pdb\"):\n",
    "        paths.append(p)\n",
    "        names.append(f\"{protcode}_{p.stem}\")\n",
    "\n",
    "    return paths, names"
   ],
   "metadata": {
    "collapsed": false,
    "ExecuteTime": {
     "end_time": "2025-03-27T15:39:41.394198Z",
     "start_time": "2025-03-27T15:39:41.391002Z"
    }
   },
   "id": "e294e347f5da480f",
   "execution_count": 1
  },
  {
   "cell_type": "markdown",
   "source": [
    "### Structural Phylogenetic Tree (Q-score)"
   ],
   "metadata": {
    "collapsed": false
   },
   "id": "f9bcc127e1c9526c"
  },
  {
   "cell_type": "code",
   "outputs": [
    {
     "name": "stderr",
     "output_type": "stream",
     "text": [
      "100%|██████████| 294528/294528 [29:50<00:00, 164.53it/s]\n"
     ]
    }
   ],
   "source": [
    "from src.phylogenetics import qs_phylogenetic_tree\n",
    "\n",
    "bldb_paths, bldb_names = get_paths(\"BLDB\")\n",
    "cytc_paths, cytc_names = get_paths(\"CYTC\")\n",
    "gfp_paths, gfp_names = get_paths(\"GFP\")\n",
    "ras_paths, ras_names = get_paths(\"RAS\")\n",
    "\n",
    "phylo_tree = qs_phylogenetic_tree(\n",
    "    pdb_list=bldb_paths + cytc_paths + gfp_paths + ras_paths,\n",
    "    names=bldb_names + cytc_names + gfp_names + ras_names\n",
    ")"
   ],
   "metadata": {
    "collapsed": false,
    "ExecuteTime": {
     "end_time": "2025-03-27T16:10:08.884645Z",
     "start_time": "2025-03-27T15:39:42.202403Z"
    }
   },
   "id": "b91d422311328b49",
   "execution_count": 2
  },
  {
   "cell_type": "code",
   "outputs": [
    {
     "name": "stdout",
     "output_type": "stream",
     "text": [
      "(GFP_7O7V_A:0.49646,((CYTC_1GWS_A:0.34844,(CYTC_SM_46:0.28556,(CYTC_1OFY_A:0.01787,CYTC_1DUW_A:0.01787)Inner249:0.26769)Inner723:0.06289)Inner737:0.12952,(((CYTC_6RTE_A:0.01600,CYTC_6RTD_A:0.01600)Inner233:0.45821,(CYTC_1SP3_A:0.46090,(CYTC_FM_47:0.32224,(CYTC_FM_48:0.27943,(CYTC_SM_47:0.21597,(CYTC_6P73_A:0.04136,(CYTC_2RF7_A:0.00363,CYTC_1GU6_A:0.00363)Inner80:0.03773)Inner372:0.17461)Inner697:0.06346)Inner720:0.04280)Inner733:0.13866)Inner759:0.01331)Inner763:0.00113,(((((GFP_6H01_A:0.31363,GFP_5YR2_A:0.31363)Inner731:0.07125,(GFP_SM_0:0.12096,(GFP_FM_0:0.10867,GFP_2G5Z_A:0.10867)Inner576:0.01229)Inner602:0.26392)Inner746:0.04159,(GFP_SM_49:0.40376,(GFP_4ZF4_A:0.34607,((GFP_FM_44:0.25418,(GFP_FM_48:0.23361,(GFP_FM_2:0.21442,GFP_FM_41:0.21442)Inner695:0.01919)Inner712:0.02057)Inner716:0.04793,(((GFP_SM_40:0.11663,GFP_SM_41:0.11663)Inner596:0.03670,((GFP_SM_47:0.11653,GFP_SM_48:0.11653)Inner595:0.00957,((GFP_SM_46:0.08760,GFP_SM_45:0.08760)Inner519:0.02278,GFP_SM_44:0.11037)Inner579:0.01573)Inner610:0.02723)Inner648:0.12756,(GFP_SM_43:0.27949,((GFP_FM_38:0.22298,(GFP_SM_27:0.19610,GFP_SM_42:0.19610)Inner690:0.02688)Inner704:0.01701,(GFP_FM_36:0.21797,(GFP_FM_46:0.20320,((GFP_SM_39:0.15908,GFP_SM_38:0.15908)Inner658:0.02812,((GFP_FM_33:0.14644,GFP_FM_34:0.14644)Inner639:0.03677,(GFP_FM_40:0.16939,((GFP_FM_35:0.16226,((GFP_SM_35:0.11812,GFP_SM_37:0.11812)Inner600:0.01165,GFP_SM_30:0.12977)Inner616:0.03249)Inner662:0.00432,((GFP_FM_18:0.13917,(GFP_FM_5:0.10848,((GFP_SM_3:0.09232,(GFP_2C9J_A:0.05634,((GFP_8U24_A:0.00380,GFP_8U22_A:0.00380)Inner85:0.03979,((GFP_4DXM_A:0.01187,(GFP_5EXB_A:0.00800,GFP_2VZX_A:0.00800)Inner146:0.00387)Inner199:0.00918,(GFP_7CZ0_A:0.00726,GFP_2HQK_A:0.00726)Inner134:0.01378)Inner273:0.02254)Inner382:0.01275)Inner423:0.03598)Inner537:0.01101,(((GFP_5LTQ_A:0.01622,GFP_4HVF_B:0.01622)Inner235:0.00401,GFP_4DKM_A:0.02023)Inner265:0.04077,(GFP_2G3O_A:0.03316,GFP_2DD9_A:0.03316)Inner337:0.02783)Inner436:0.04234)Inner560:0.00515)Inner573:0.03069)Inner632:0.01748,((GFP_SM_36:0.13474,(GFP_SM_5:0.11707,GFP_6JXF_A:0.11707)Inner598:0.01767)Inner625:0.01923,(GFP_FM_39:0.14928,(((GFP_FM_28:0.11642,GFP_FM_43:0.11642)Inner593:0.01918,((GFP_SM_23:0.10743,GFP_SM_4:0.10743)Inner571:0.01919,(GFP_FM_31:0.11729,((GFP_SM_13:0.08939,GFP_SM_24:0.08939)Inner523:0.01541,(GFP_SM_33:0.09936,GFP_SM_20:0.09936)Inner549:0.00544)Inner562:0.01249)Inner599:0.00933)Inner611:0.00898)Inner628:0.00133,((GFP_FM_20:0.12588,(GFP_FM_37:0.11273,((((GFP_FM_23:0.08371,(GFP_FM_27:0.07677,GFP_FM_3:0.07677)Inner485:0.00694)Inner510:0.01087,(GFP_FM_19:0.08166,(GFP_SM_28:0.06904,GFP_SM_22:0.06904)Inner462:0.01261)Inner503:0.01293)Inner540:0.00617,(GFP_SM_1:0.09159,GFP_FM_22:0.09159)Inner535:0.00917)Inner556:0.00624,(GFP_FM_29:0.08737,(GFP_FM_17:0.07898,GFP_FM_32:0.07898)Inner492:0.00839)Inner518:0.01963)Inner569:0.00573)Inner583:0.01315)Inner608:0.00525,((GFP_FM_45:0.11471,GFP_FM_16:0.11471)Inner589:0.01118,(((GFP_FM_47:0.09944,(GFP_FM_24:0.08663,GFP_FM_30:0.08663)Inner515:0.01281)Inner550:0.01557,(GFP_SM_29:0.09530,((GFP_SM_10:0.06934,GFP_SM_31:0.06934)Inner464:0.01143,GFP_SM_26:0.08077)Inner499:0.01453)Inner542:0.01970)Inner590:0.00860,((GFP_SM_25:0.10367,(GFP_SM_32:0.07532,GFP_SM_21:0.07532)Inner481:0.02835)Inner561:0.00937,(GFP_SM_15:0.11208,(GFP_FM_15:0.11014,((GFP_SM_18:0.09449,(GFP_FM_25:0.09147,(GFP_FM_49:0.06657,GFP_FM_42:0.06657)Inner454:0.02490)Inner532:0.00302)Inner539:0.01174,(GFP_FM_1:0.09956,(((GFP_FM_4:0.08580,(GFP_FM_13:0.07756,(GFP_FM_21:0.07228,GFP_FM_14:0.07228)Inner472:0.00528)Inner487:0.00824)Inner514:0.00575,(GFP_FM_11:0.08508,(GFP_FM_26:0.06448,GFP_FM_12:0.06448)Inner448:0.02059)Inner513:0.00648)Inner534:0.00619,((GFP_SM_8:0.08329,((GFP_SM_17:0.06297,GFP_SM_14:0.06297)Inner443:0.00964,((GFP_SM_12:0.04744,GFP_SM_9:0.04744)Inner396:0.01758,(GFP_SM_2:0.05175,GFP_SM_16:0.05175)Inner409:0.01327)Inner450:0.00758)Inner473:0.01069)Inner509:0.00625,((GFP_FM_7:0.07212,(GFP_FM_9:0.06686,GFP_FM_10:0.06686)Inner458:0.00526)Inner471:0.00673,(GFP_6S67_A:0.07320,(((GFP_FM_6:0.05383,(GFP_FM_8:0.05107,GFP_SM_7:0.05107)Inner408:0.00276)Inner415:0.01030,(GFP_SM_11:0.05799,(GFP_SM_19:0.04500,(GFP_5HBD_A:0.02328,GFP_2HCG_A:0.02328)Inner288:0.02172)Inner385:0.01300)Inner429:0.00614)Inner447:0.00268,(GFP_5MFC_B:0.06312,(GFP_2H9W_A:0.05235,(GFP_5WJ2_A:0.04622,(GFP_2AH8_A:0.04479,(GFP_6KRG_A:0.04169,(GFP_SM_6:0.03971,(GFP_7A7Q_A:0.03932,(((GFP_8BXP_A:0.02500,(GFP_4J8A_A:0.01698,((GFP_3SVB_A:0.01322,(GFP_6QQB_A:0.00935,(GFP_4H47_A:0.00536,GFP_3SSP_A:0.00536)Inner106:0.00399)Inner160:0.00387)Inner207:0.00070,(GFP_3SSK_A:0.00244,GFP_3SS0_A:0.00244)Inner58:0.01148)Inner217:0.00306)Inner240:0.00802)Inner298:0.00731,((GFP_8AHA_A:0.01001,(GFP_8A6P_A:0.00538,GFP_7O7X_A:0.00538)Inner107:0.00463)Inner173:0.00811,(GFP_8AM4_A:0.01518,(GFP_7A7L_A:0.00954,(GFP_7O7D_A:0.00686,(GFP_3DQN_A:0.00038,GFP_3DQE_A:0.00038)Inner22:0.00648)Inner126:0.00268)Inner164:0.00564)Inner226:0.00295)Inner252:0.01418)Inner333:0.00290,((GFP_7A8L_A:0.01097,GFP_7A8A_A:0.01097)Inner184:0.02194,(GFP_8DPD_A:0.02951,((((GFP_3CD9_A:0.01145,GFP_6L27_A:0.01145)Inner192:0.00928,(GFP_6VIO_A:0.01950,(GFP_5DPI_A:0.01475,GFP_4JFG_A:0.01475)Inner221:0.00475)Inner263:0.00123)Inner271:0.00327,(GFP_4LW5_B:0.02061,(GFP_2OKW_A:0.01150,GFP_2EMO_A:0.01150)Inner193:0.00911)Inner268:0.00339)Inner294:0.00333,((GFP_6MB2_l:0.01947,(GFP_5MA6_A:0.01517,(GFP_7A8I_A:0.01241,(((GFP_1JC1_A:0.00447,GFP_1JC0_A:0.00447)Inner93:0.00329,GFP_6GQH_A:0.00776)Inner143:0.00393,(GFP_1OXE_A:0.00813,GFP_2WSN_A:0.00813)Inner147:0.00356)Inner196:0.00073)Inner203:0.00276)Inner225:0.00430)Inner262:0.00618,(GFP_4GES_B:0.02370,(GFP_7A8J_A:0.02261,((GFP_7LG4_A:0.01784,GFP_4B5Y_A:0.01784)Inner248:0.00287,(GFP_4LQU_D:0.01803,(GFP_2AHA_A:0.01722,((GFP_5WWK_A:0.01114,GFP_1W7T_A:0.01114)Inner187:0.00155,((GFP_7A7S_A:0.00916,(GFP_7AMB_A:0.00614,GFP_5DU0_A:0.00614)Inner117:0.00302)Inner158:0.00198,(((GFP_5LEL_C:0.00831,GFP_6FWW_A:0.00831)Inner150:0.00163,GFP_2DUF_A:0.00994)Inner170:0.00092,(((GFP_7A86_A:0.00244,GFP_7A84_A:0.00244)Inner57:0.00428,(GFP_1YJF_A:0.00600,GFP_1EMC_A:0.00600)Inner114:0.00072)Inner124:0.00217,(((GFP_3G9A_A:0.00280,GFP_3GJ2_A:0.00280)Inner66:0.00173,(GFP_5MA9_H:0.00299,GFP_1Q4A_A:0.00299)Inner68:0.00155)Inner94:0.00216,(GFP_8SFZ_F:0.00594,(((GFP_4EUL_A:0.00252,GFP_2Y0G_A:0.00252)Inner60:0.00110,GFP_2QRF_A:0.00363)Inner79:0.00153,GFP_5NI3_A:0.00516)Inner102:0.00078)Inner113:0.00075)Inner123:0.00220)Inner154:0.00197)Inner180:0.00028)Inner188:0.00154)Inner206:0.00453)Inner242:0.00081)Inner251:0.00268)Inner270:0.00190)Inner285:0.00109)Inner291:0.00195)Inner300:0.00169)Inner313:0.00217)Inner321:0.00340)Inner336:0.00230)Inner344:0.00412)Inner366:0.00039)Inner368:0.00198)Inner373:0.00310)Inner384:0.00143)Inner392:0.00613)Inner411:0.01078)Inner445:0.00368)Inner457:0.00639)Inner474:0.00565)Inner491:0.01069)Inner525:0.00820)Inner547:0.00182)Inner551:0.00667)Inner567:0.00391)Inner577:0.00194)Inner581:0.00096)Inner585:0.01056)Inner605:0.00228)Inner609:0.00525)Inner617:0.00579)Inner629:0.01236)Inner643:0.00468)Inner652:0.00269)Inner654:0.00993)Inner664:0.00281)Inner665:0.01382)Inner679:0.00399)Inner682:0.01601)Inner692:0.01476)Inner699:0.02202)Inner713:0.03951)Inner721:0.00139)Inner722:0.02123)Inner726:0.04395)Inner736:0.05770)Inner749:0.02270)Inner752:0.03998,(((((RAS_8BLR_A:0.01136,RAS_6MQG_A:0.01136)Inner191:0.16101,(((((RAS_4US2_R:0.00045,RAS_4US1_R:0.00045)Inner25:0.00040,RAS_4URX_R:0.00085)Inner29:0.00069,RAS_4US0_R:0.00154)Inner46:0.01855,RAS_6EPN_R:0.02009)Inner264:0.13167,(RAS_5TB5_A:0.11698,RAS_2X1V_A:0.11698)Inner597:0.03479)Inner646:0.02061)Inner669:0.02320,(RAS_FM_48:0.17413,(RAS_FM_46:0.14063,(RAS_FM_49:0.13515,(RAS_FM_43:0.13441,((RAS_FM_9:0.10851,RAS_FM_16:0.10851)Inner575:0.01582,((((RAS_SM_23:0.08689,RAS_FM_29:0.08689)Inner516:0.01070,RAS_FM_47:0.09760)Inner546:0.01091,(RAS_SM_43:0.09825,(RAS_SM_48:0.09145,(RAS_FM_40:0.08203,(RAS_FM_45:0.07868,(((RAS_SM_46:0.03402,RAS_SM_41:0.03402)Inner339:0.02687,(RAS_SM_47:0.04512,RAS_FM_42:0.04512)Inner386:0.01577)Inner435:0.00509,((RAS_SM_42:0.03747,RAS_FM_41:0.03747)Inner358:0.01106,RAS_4DSN_A:0.04853)Inner400:0.01744)Inner452:0.01271)Inner490:0.00335)Inner504:0.00942)Inner531:0.00679)Inner548:0.01026)Inner574:0.00798,((RAS_FM_44:0.10647,(RAS_SM_49:0.08232,(RAS_SM_45:0.06112,RAS_SM_44:0.06112)Inner437:0.02121)Inner505:0.02415)Inner568:0.00651,(RAS_FM_30:0.10061,(((RAS_FM_18:0.07561,(((RAS_SM_40:0.05363,(RAS_SM_21:0.03748,(RAS_SM_36:0.02824,(RAS_SM_9:0.01131,(RAS_SM_2:0.00101,RAS_SM_20:0.00101)Inner31:0.01030)Inner190:0.01693)Inner318:0.00923)Inner359:0.01615)Inner414:0.00254,RAS_6OIM_A:0.05617)Inner420:0.01409,(RAS_FM_21:0.06763,(RAS_FM_6:0.05726,(RAS_SM_14:0.04820,(RAS_SM_11:0.04588,(RAS_SM_31:0.03877,(RAS_SM_29:0.03637,(RAS_6WGH_A:0.03031,((RAS_SM_34:0.01088,(RAS_SM_17:0.00338,RAS_SM_16:0.00338)Inner74:0.00750)Inner181:0.01025,((RAS_SM_25:0.01201,((RAS_SM_30:0.00195,RAS_SM_18:0.00195)Inner51:0.00925,((RAS_4Q03_A:0.00355,RAS_4EPX_A:0.00355)Inner77:0.00215,(RAS_8TXK_A:0.00090,RAS_8TXJ_A:0.00090)Inner30:0.00480)Inner111:0.00549)Inner189:0.00082)Inner200:0.00361,(RAS_6MBT_A:0.01250,RAS_7MQU_A:0.01250)Inner204:0.00312)Inner230:0.00551)Inner274:0.00918)Inner324:0.00605)Inner353:0.00240)Inner364:0.00711)Inner390:0.00232)Inner398:0.00906)Inner427:0.01037)Inner460:0.00263)Inner465:0.00535)Inner482:0.00446,(RAS_7W5R_A:0.07737,(RAS_FM_28:0.07131,(((RAS_4M1Y_A:0.01155,(RAS_4M1W_A:0.01073,(RAS_4M1S_A:0.00791,RAS_4LYH_A:0.00791)Inner145:0.00283)Inner179:0.00082)Inner194:0.05255,((RAS_6E6F_A:0.04344,RAS_3LO5_A:0.04344)Inner379:0.00514,((RAS_5VQ8_A:0.02371,RAS_5VQ6_A:0.02371)Inner292:0.01964,RAS_6E6P_A:0.04335)Inner378:0.00522)Inner401:0.01553)Inner446:0.00246,((RAS_FM_34:0.04649,((RAS_8G42_B:0.03612,(RAS_5US4_A:0.02131,RAS_5W22_A:0.02131)Inner277:0.01481)Inner352:0.00263,(RAS_FM_8:0.03859,((RAS_8ECR_A:0.01170,RAS_8T73_A:0.01170)Inner197:0.02359,(RAS_7T1F_A:0.02400,RAS_6MQT_A:0.02400)Inner293:0.01129)Inner345:0.00329)Inner362:0.00017)Inner363:0.00774)Inner394:0.00984,(RAS_6DZH_A:0.05336,(((RAS_8T72_A:0.02405,(RAS_4M22_A:0.01440,RAS_6MTA_A:0.01440)Inner220:0.00965)Inner295:0.00752,(RAS_6GJ5_A:0.01846,RAS_4XVR_A:0.01846)Inner255:0.01310)Inner330:0.00428,((RAS_4LPK_A:0.01369,RAS_4WA7_A:0.01369)Inner213:0.01633,((RAS_3RSL_A:0.01698,RAS_3K9L_A:0.01698)Inner241:0.00637,RAS_2RGE_A:0.02335)Inner289:0.00667)Inner322:0.00581)Inner350:0.01752)Inner413:0.00297)Inner422:0.01023)Inner453:0.00474)Inner468:0.00606)Inner486:0.00270)Inner497:0.01079,(((RAS_SM_7:0.06476,(RAS_FM_13:0.06311,((RAS_FM_5:0.03695,RAS_SM_5:0.03695)Inner357:0.00524,RAS_FM_2:0.04219)Inner375:0.02091)Inner444:0.00165)Inner449:0.01533,(RAS_5WHA_A:0.07047,(RAS_7A47_A:0.06259,RAS_6MBQ_A:0.06259)Inner441:0.00788)Inner466:0.00962)Inner498:0.00088,(RAS_FM_10:0.06659,((RAS_FM_39:0.05626,RAS_FM_31:0.05626)Inner421:0.00586,(((RAS_FM_33:0.03886,RAS_SM_24:0.03886)Inner365:0.00842,(RAS_FM_37:0.03770,RAS_8EBZ_A:0.03770)Inner361:0.00958)Inner395:0.00845,((((RAS_SM_19:0.02661,(RAS_FM_17:0.02554,((RAS_8ONV_A:0.01334,(RAS_8AFD_A:0.01093,RAS_5F2E_A:0.01093)Inner182:0.00241)Inner209:0.00559,((RAS_SM_38:0.01160,((RAS_SM_27:0.00227,RAS_SM_32:0.00227)Inner56:0.00250,RAS_SM_28:0.00477)Inner96:0.00684)Inner195:0.00640,((((RAS_7EWB_A:0.00179,RAS_7EWA_A:0.00179)Inner50:0.00320,RAS_7EW9_A:0.00499)Inner99:0.00398,RAS_8AQ7_A:0.00897)Inner156:0.00597,RAS_8WB1_A:0.01494)Inner224:0.00306)Inner250:0.00092)Inner258:0.00662)Inner299:0.00106)Inner308:0.00877,((((RAS_FM_11:0.01560,(RAS_SM_6:0.00710,(RAS_SM_10:0.00179,RAS_SM_8:0.00179)Inner49:0.00530)Inner129:0.00850)Inner229:0.00886,((RAS_FM_35:0.01896,RAS_SM_13:0.01896)Inner259:0.00412,(RAS_FM_12:0.02118,(RAS_SM_1:0.01411,((RAS_SM_37:0.00358,(RAS_SM_35:0.00070,RAS_SM_33:0.00070)Inner26:0.00288)Inner78:0.00535,(RAS_SM_22:0.00338,RAS_SM_15:0.00338)Inner75:0.00556)Inner155:0.00518)Inner218:0.00706)Inner276:0.00191)Inner287:0.00138)Inner297:0.00321,(RAS_6P8Z_A:0.02096,RAS_7ACQ_A:0.02096)Inner272:0.00672)Inner315:0.00339,(RAS_4LUC_A:0.02026,(RAS_6P8X_A:0.01754,RAS_7OO7_A:0.01754)Inner245:0.00272)Inner266:0.01080)Inner328:0.00432)Inner346:0.01028,(RAS_SM_39:0.02751,((RAS_5OCO_B:0.00856,RAS_6F76_B:0.00856)Inner153:0.01449,(RAS_SM_26:0.01638,RAS_6MNX_A:0.01638)Inner238:0.00667)Inner286:0.00445)Inner314:0.01815)Inner389:0.00368,((RAS_FM_27:0.03961,(RAS_FM_15:0.03543,RAS_FM_38:0.03543)Inner347:0.00418)Inner367:0.00589,((RAS_FM_22:0.03690,(RAS_FM_25:0.03248,((RAS_FM_23:0.02723,RAS_FM_26:0.02723)Inner312:0.00438,(RAS_8VM2_A:0.02632,((RAS_FM_36:0.01482,(RAS_FM_24:0.01030,RAS_FM_32:0.01030)Inner175:0.00453)Inner223:0.00451,((RAS_FM_14:0.01341,(RAS_FM_19:0.01065,RAS_6ZIZ_A:0.01065)Inner178:0.00276)Inner210:0.00247,RAS_6OB2_A:0.01587)Inner231:0.00346)Inner261:0.00699)Inner305:0.00529)Inner331:0.00087)Inner334:0.00442)Inner356:0.00657,((RAS_4K81_B:0.03564,((RAS_FM_4:0.02631,((RAS_8TBM_A:0.01777,(RAS_FM_7:0.01603,((RAS_FM_0:0.01097,((RAS_SM_3:0.00379,RAS_SM_4:0.00379)Inner84:0.00572,(RAS_8EM0_A:0.00739,RAS_8ELV_A:0.00739)Inner136:0.00212)Inner163:0.00146)Inner183:0.00246,(RAS_6D5W_Q:0.00691,(RAS_6D56_A:0.00016,((RAS_6V9F_A:0.00005,RAS_6V94_A:0.00005)Inner2:0.00003,RAS_6BVK_A:0.00008)Inner3:0.00009)Inner6:0.00674)Inner127:0.00653)Inner211:0.00260)Inner234:0.00174)Inner247:0.00361,RAS_7OGF_A:0.02138)Inner278:0.00493)Inner304:0.00389,(RAS_FM_1:0.02721,(RAS_8DGT_F:0.01870,((RAS_3RS3_A:0.00080,RAS_3V4F_A:0.00080)Inner27:0.00045,RAS_2RGA_A:0.00125)Inner36:0.01745)Inner256:0.00851)Inner311:0.00299)Inner323:0.00544)Inner349:0.00656,((RAS_FM_20:0.02592,RAS_7ACF_A:0.02592)Inner302:0.00964,((((RAS_SM_0:0.00987,RAS_SM_12:0.00987)Inner169:0.00889,RAS_FM_3:0.01876)Inner257:0.01198,(RAS_5USJ_A:0.02219,((RAS_6GOG_A:0.00404,RAS_6GQT_A:0.00404)Inner90:0.00815,(RAS_3GFT_A:0.00280,RAS_6FA2_A:0.00280)Inner65:0.00939)Inner202:0.01000)Inner283:0.00855)Inner325:0.00324,((RAS_7L0G_A:0.00710,RAS_7L0F_E:0.00710)Inner130:0.02070,(RAS_2CL7_X:0.00625,RAS_2EVW_X:0.00625)Inner118:0.02154)Inner317:0.00618)Inner338:0.00158)Inner348:0.00664)Inner377:0.00127)Inner381:0.00202)Inner388:0.00384)Inner404:0.00640)Inner419:0.00639)Inner440:0.00447)Inner455:0.01438)Inner500:0.00989)Inner529:0.00976)Inner555:0.01237)Inner584:0.00350)Inner594:0.00784)Inner606:0.01008)Inner622:0.00074)Inner627:0.00548)Inner633:0.03351)Inner671:0.02144)Inner689:0.18371,(GFP_SM_34:0.22350,GFP_6J7U_A:0.22350)Inner705:0.15578)Inner743:0.06249,((BLDB_FM_49:0.39083,(BLDB_FM_48:0.32178,(BLDB_FM_47:0.31144,(BLDB_SM_47:0.22964,(BLDB_SM_48:0.17568,(BLDB_7WI1_A:0.02069,BLDB_7BYQ_B:0.02069)Inner269:0.15500)Inner673:0.05395)Inner710:0.08180)Inner730:0.01035)Inner732:0.06904)Inner747:0.02738,(BLDB_SM_41:0.35602,(BLDB_FM_38:0.28789,((BLDB_FM_40:0.23324,((BLDB_SM_39:0.21440,BLDB_SM_38:0.21440)Inner694:0.00846,((BLDB_FM_39:0.19225,(BLDB_SM_36:0.17581,(BLDB_SM_23:0.14323,BLDB_SM_21:0.14323)Inner635:0.03258)Inner674:0.01645)Inner686:0.02237,(BLDB_SM_40:0.20724,(((BLDB_SM_30:0.14132,(BLDB_SM_27:0.12802,BLDB_SM_31:0.12802)Inner612:0.01330)Inner634:0.01771,(BLDB_SM_32:0.15346,BLDB_SM_26:0.15346)Inner650:0.00557)Inner657:0.01141,((BLDB_6U10_A:0.01599,BLDB_2QIN_A:0.01599)Inner232:0.11859,(BLDB_5IQK_A:0.08784,BLDB_1L9Y_A:0.08784)Inner520:0.04674)Inner623:0.03585)Inner667:0.03681)Inner693:0.00738)Inner696:0.00824)Inner703:0.01037)Inner711:0.04014,((BLDB_SM_16:0.14659,(BLDB_SM_7:0.12213,(BLDB_SM_14:0.10508,(BLDB_FM_1:0.09611,(BLDB_SM_1:0.06268,(BLDB_5NBK_A:0.04799,(((BLDB_6LIZ_A:0.00912,((BLDB_6D1B_A:0.00020,BLDB_6D1A_A:0.00020)Inner10:0.00587,BLDB_5ZIO_A:0.00607)Inner116:0.00304)Inner157:0.00909,BLDB_4TZ9_A:0.01820)Inner253:0.01660,(BLDB_8B1W_A:0.02657,(BLDB_6OL8_A:0.00654,(BLDB_7UP1_A:0.00151,BLDB_4EYB_A:0.00151)Inner45:0.00503)Inner122:0.02003)Inner307:0.00824)Inner341:0.01318)Inner397:0.01469)Inner442:0.03343)Inner543:0.00897)Inner563:0.01705)Inner604:0.02446)Inner640:0.04619,((BLDB_6CQS_A:0.13232,(BLDB_8HXN_A:0.03660,BLDB_3FAI_A:0.03660)Inner355:0.09572)Inner620:0.05024,(BLDB_FM_3:0.15961,((BLDB_FM_0:0.14453,BLDB_FM_2:0.14453)Inner636:0.00616,(((BLDB_7DTM_A:0.01732,BLDB_6R78_A:0.01732)Inner243:0.09618,(((BLDB_2NZE_A:0.00520,BLDB_2NYP_A:0.00520)Inner104:0.00892,BLDB_2BG7_A:0.01411)Inner219:0.06107,BLDB_1ZNB_A:0.07518)Inner480:0.03832)Inner587:0.01771,(BLDB_SM_4:0.09022,(BLDB_SM_2:0.07902,(BLDB_SM_3:0.04870,(((BLDB_8HY1_A:0.00514,BLDB_6TM9_A:0.00514)Inner101:0.00409,BLDB_2WRS_A:0.00923)Inner159:0.00461,(BLDB_7PP0_A:0.00979,(((BLDB_7A5Z_A:0.00343,(BLDB_6JN6_B:0.00195,BLDB_4PVT_A:0.00195)Inner52:0.00148)Inner76:0.00155,BLDB_4C1E_A:0.00498)Inner98:0.00283,(BLDB_7OVF_A:0.00555,BLDB_1KO3_A:0.00555)Inner109:0.00226)Inner144:0.00198)Inner167:0.00404)Inner216:0.03486)Inner403:0.03032)Inner493:0.01120)Inner526:0.04099)Inner618:0.01948)Inner645:0.00892)Inner659:0.02295)Inner678:0.01021)Inner687:0.08060)Inner719:0.01451)Inner724:0.06813)Inner738:0.06218)Inner751:0.02356)Inner755:0.02468)Inner761:0.00246,(((CYTC_SM_45:0.36613,CYTC_6KLS_C:0.36613)Inner741:0.08996,((CYTC_5GYR_A:0.40458,(CYTC_FM_33:0.30770,(CYTC_FM_32:0.19413,(CYTC_FM_34:0.18724,(CYTC_1S05_A:0.14982,(CYTC_SM_33:0.10289,((CYTC_SM_32:0.07992,CYTC_FM_31:0.07992)Inner496:0.00730,((CYTC_6A3K_A:0.05299,(CYTC_SM_31:0.04193,(CYTC_2J9B_A:0.01215,CYTC_2J8W_A:0.01215)Inner201:0.02978)Inner374:0.01107)Inner412:0.00823,(CYTC_4WGY_A:0.01028,(CYTC_2XLE_A:0.00936,((CYTC_5JT4_A:0.00151,CYTC_3ZTZ_A:0.00151)Inner44:0.00563,(CYTC_4D4X_A:0.00416,(CYTC_5NGX_A:0.00370,(CYTC_2YL3_A:0.00301,(CYTC_5JP7_A:0.00125,CYTC_1E86_A:0.00125)Inner37:0.00177)Inner69:0.00069)Inner82:0.00046)Inner91:0.00298)Inner133:0.00223)Inner161:0.00091)Inner174:0.05094)Inner439:0.02600)Inner517:0.01567)Inner559:0.04693)Inner644:0.03742)Inner683:0.00689)Inner688:0.11357)Inner729:0.09688)Inner750:0.04939,((CYTC_FM_35:0.15394,(CYTC_SM_35:0.02906,(CYTC_7ZVZ_B:0.00535,(CYTC_7ZSV_A:0.00219,(CYTC_7ZQZ_A:0.00101,CYTC_7ZPS_A:0.00101)Inner32:0.00118)Inner55:0.00316)Inner105:0.02371)Inner319:0.12488)Inner651:0.28711,(CYTC_SM_5:0.42932,(((CYTC_5XED_A:0.22515,CYTC_3X39_A:0.22515)Inner708:0.13747,CYTC_1R0Q_A:0.36262)Inner740:0.04002,((((CYTC_SM_40:0.00625,CYTC_SM_41:0.00625)Inner119:0.36191,(CYTC_1MG3_D:0.34522,((CYTC_FM_40:0.17698,(CYTC_FM_39:0.08891,(CYTC_8EQM_v:0.05764,(CYTC_FM_38:0.03266,(CYTC_FM_37:0.02650,(CYTC_FM_36:0.01626,(((CYTC_SM_39:0.00025,CYTC_SM_37:0.00025)Inner13:0.00013,(CYTC_SM_36:0.00025,CYTC_SM_38:0.00025)Inner15:0.00013)Inner23:0.00737,((((CYTC_8IRB_v:0.00008,CYTC_8IR8_v:0.00008)Inner4:0.00136,CYTC_8F4D_V:0.00144)Inner41:0.00071,(CYTC_6JLO_v:0.00151,CYTC_5ZZN_v:0.00151)Inner43:0.00065)Inner54:0.00185,CYTC_4FBY_i:0.00401)Inner89:0.00374)Inner142:0.00851)Inner237:0.01024)Inner306:0.00616)Inner335:0.02497)Inner428:0.03128)Inner522:0.08807)Inner676:0.15234,(CYTC_6CUN_A:0.29889,((CYTC_SM_7:0.24944,(CYTC_FM_7:0.22084,((CYTC_FM_6:0.13436,((CYTC_FM_2:0.06794,((CYTC_SM_3:0.02772,CYTC_6TSY_A:0.02772)Inner316:0.02950,((CYTC_FM_4:0.04003,CYTC_FM_3:0.04003)Inner369:0.00217,(CYTC_SM_4:0.01530,(CYTC_4H0J_B:0.00137,CYTC_4GYD_A:0.00137)Inner39:0.01392)Inner228:0.02690)Inner376:0.01502)Inner426:0.01072)Inner461:0.03770,(CYTC_SM_6:0.01527,CYTC_3DR0_A:0.01527)Inner227:0.09036)Inner565:0.02872)Inner621:0.03544,CYTC_2DGE_A:0.16980)Inner666:0.05104)Inner702:0.02861)Inner714:0.00499,((CYTC_FM_1:0.17698,CYTC_8YTS_A:0.17698)Inner675:0.04716,(CYTC_4PWA_A:0.21597,(((CYTC_3ZOY_A:0.01262,CYTC_3ZOW_A:0.01262)Inner205:0.00653,CYTC_1YNR_A:0.01915)Inner260:0.15372,(CYTC_SM_0:0.02258,CYTC_1K3G_A:0.02258)Inner284:0.15028)Inner670:0.04310)Inner698:0.00816)Inner707:0.03029)Inner717:0.04446)Inner725:0.03044)Inner734:0.01589)Inner735:0.02295)Inner742:0.01271,(CYTC_FM_41:0.21984,((CYTC_FM_46:0.15792,CYTC_FM_42:0.15792)Inner656:0.03408,(CYTC_FM_28:0.10728,(CYTC_FM_29:0.07196,((CYTC_SM_29:0.00080,CYTC_SM_28:0.00080)Inner28:0.02130,CYTC_1DW0_A:0.02210)Inner282:0.04986)Inner470:0.03532)Inner570:0.08472)Inner685:0.02784)Inner701:0.16103)Inner744:0.00239,((CYTC_5KLU_A:0.26244,(CYTC_6XNK_A:0.22895,CYTC_3NBT_A:0.22895)Inner709:0.03350)Inner718:0.04509,(CYTC_5ZKV_A:0.25230,((CYTC_FM_5:0.18483,CYTC_FM_44:0.18483)Inner681:0.01329,(CYTC_FM_45:0.16047,((CYTC_FM_0:0.13509,(CYTC_FM_30:0.12559,CYTC_FM_49:0.12559)Inner607:0.00950)Inner626:0.01253,((CYTC_FM_15:0.10543,((CYTC_FM_17:0.08237,(CYTC_FM_21:0.07854,CYTC_SM_16:0.07854)Inner489:0.00383)Inner506:0.01735,CYTC_FM_16:0.09971)Inner552:0.00572)Inner564:0.03178,(CYTC_FM_43:0.11421,((CYTC_SM_34:0.05860,CYTC_SM_48:0.05860)Inner432:0.04189,((((CYTC_SM_2:0.02670,CYTC_SM_44:0.02670)Inner309:0.02992,(CYTC_SM_49:0.04843,(CYTC_SM_43:0.04530,CYTC_SM_42:0.04530)Inner387:0.00313)Inner399:0.00818)Inner425:0.01807,CYTC_SM_15:0.07468)Inner477:0.01679,((CYTC_SM_1:0.06121,CYTC_SM_30:0.06121)Inner438:0.02007,(CYTC_2ORL_A:0.07569,((CYTC_FM_14:0.05464,(CYTC_FM_8:0.04419,(((CYTC_FM_11:0.02359,CYTC_FM_12:0.02359)Inner290:0.00724,CYTC_5JUY_H:0.03082)Inner326:0.00140,(CYTC_SM_14:0.02205,(CYTC_FM_9:0.01834,((CYTC_8DVX_C:0.01055,((CYTC_FM_13:0.00769,CYTC_FM_10:0.00769)Inner140:0.00170,(CYTC_6ECJ_A:0.00730,((CYTC_SM_11:0.00028,(CYTC_SM_10:0.00025,(CYTC_SM_12:0.00020,CYTC_SM_13:0.00020)Inner8:0.00005)Inner14:0.00003)Inner16:0.00525,(CYTC_3O20_A:0.00386,(((CYTC_8DZL_D:0.00261,CYTC_6N1O_A:0.00261)Inner62:0.00068,CYTC_5WVE_B:0.00330)Inner71:0.00047,(CYTC_7LJX_A:0.00261,CYTC_3J2T_I:0.00261)Inner63:0.00115)Inner83:0.00009)Inner88:0.00167)Inner108:0.00177)Inner135:0.00209)Inner162:0.00116)Inner177:0.00304,(((CYTC_SM_9:0.00031,CYTC_SM_8:0.00031)Inner18:0.00621,CYTC_5CIF_B:0.00653)Inner121:0.00101,(CYTC_1I55_A:0.00165,CYTC_1I54_B:0.00165)Inner47:0.00589)Inner138:0.00605)Inner212:0.00475)Inner254:0.00371)Inner281:0.01017)Inner332:0.01197)Inner383:0.01045)Inner416:0.01239,(CYTC_1YTC_A:0.05958,(CYTC_FM_24:0.05800,(CYTC_5CIB_D:0.04346,(CYTC_FM_22:0.03138,((CYTC_6RSK_A:0.01761,(((CYTC_6Y0J_A:0.00681,CYTC_6S8Y_A:0.00681)Inner125:0.00287,CYTC_6GD9_A:0.00968)Inner166:0.00209,(CYTC_6RSI_A:0.00996,(CYTC_6GD8_A:0.00639,(CYTC_4N0K_A:0.00520,CYTC_1S6V_B:0.00520)Inner103:0.00119)Inner120:0.00357)Inner172:0.00181)Inner198:0.00584)Inner246:0.00919,(CYTC_FM_18:0.02154,((CYTC_FM_27:0.01377,((CYTC_FM_23:0.00985,(CYTC_FM_26:0.00855,((CYTC_FM_19:0.00710,CYTC_FM_20:0.00710)Inner131:0.00061,CYTC_FM_25:0.00770)Inner141:0.00085)Inner152:0.00130)Inner168:0.00123,((CYTC_SM_22:0.00150,((CYTC_SM_19:0.00033,((CYTC_SM_24:0.00023,((CYTC_SM_27:0.00015,CYTC_SM_25:0.00015)Inner5:0.00002,CYTC_SM_26:0.00018)Inner7:0.00005)Inner12:0.00005,(CYTC_SM_17:0.00023,(CYTC_SM_23:0.00020,CYTC_SM_18:0.00020)Inner9:0.00003)Inner11:0.00006)Inner17:0.00005)Inner21:0.00008,(CYTC_SM_21:0.00031,CYTC_SM_20:0.00031)Inner19:0.00010)Inner24:0.00109)Inner42:0.00614,CYTC_2PCC_D:0.00764)Inner139:0.00343)Inner185:0.00269)Inner214:0.00273,(CYTC_1CSW_A:0.00125,CYTC_1CIF_A:0.00125)Inner38:0.01526)Inner239:0.00503)Inner280:0.00527)Inner310:0.00458)Inner329:0.01208)Inner380:0.01454)Inner430:0.00157)Inner433:0.00745)Inner459:0.00866)Inner483:0.00560)Inner501:0.01019)Inner533:0.00902)Inner554:0.01371)Inner588:0.02300)Inner630:0.01042)Inner641:0.01285)Inner660:0.03764)Inner691:0.05418)Inner715:0.05523)Inner728:0.07573)Inner745:0.01938)Inner748:0.02667)Inner753:0.01174)Inner754:0.01292)Inner756:0.00211)Inner757:0.00794,((CYTC_1H33_A:0.00310,(CYTC_2OZ1_A:0.00137,CYTC_1H31_A:0.00137)Inner40:0.00173)Inner70:0.45587,((BLDB_FM_43:0.18438,(BLDB_FM_44:0.17512,(BLDB_FM_42:0.16570,(BLDB_FM_45:0.16159,(BLDB_FM_46:0.15246,(BLDB_SM_44:0.12883,((BLDB_SM_43:0.09478,(BLDB_SM_46:0.06909,(BLDB_SM_45:0.04613,BLDB_SM_42:0.04613)Inner391:0.02296)Inner463:0.02569)Inner541:0.01836,((BLDB_5WAD_A:0.00748,(BLDB_5WAC_A:0.00244,BLDB_4U0X_A:0.00244)Inner59:0.00505)Inner137:0.06738,((BLDB_5CHJ_A:0.03507,BLDB_2WZX_A:0.03507)Inner343:0.02002,(BLDB_4OLD_A:0.02577,(BLDB_8DI7_D:0.01328,(BLDB_4KEN_B:0.00995,(BLDB_4KG6_A:0.00507,(BLDB_8TTP_A:0.00380,BLDB_1KDS_B:0.00380)Inner86:0.00128)Inner100:0.00488)Inner171:0.00333)Inner208:0.01249)Inner301:0.02932)Inner418:0.01978)Inner478:0.03828)Inner586:0.01569)Inner614:0.02363)Inner647:0.00913)Inner661:0.00411)Inner663:0.00941)Inner672:0.00927)Inner680:0.17498,((BLDB_SM_17:0.22370,((BLDB_FM_19:0.15529,BLDB_FM_17:0.15529)Inner653:0.01693,(BLDB_FM_10:0.15335,(((BLDB_FM_18:0.13155,(BLDB_FM_15:0.11538,(BLDB_FM_20:0.10804,(BLDB_FM_12:0.09127,BLDB_3ZNT_A:0.09127)Inner530:0.01677)Inner572:0.00734)Inner591:0.01617)Inner619:0.00676,BLDB_1M6K_A:0.13831)Inner631:0.00726,(BLDB_FM_11:0.12857,(BLDB_FM_14:0.11230,((BLDB_SM_10:0.09239,((BLDB_SM_19:0.06671,BLDB_SM_18:0.06671)Inner456:0.00793,BLDB_SM_20:0.07464)Inner476:0.01775)Inner538:0.01349,((BLDB_FM_5:0.09060,BLDB_FM_13:0.09060)Inner527:0.00618,((BLDB_SM_9:0.08248,(BLDB_FM_6:0.07153,((BLDB_FM_9:0.05200,BLDB_FM_16:0.05200)Inner410:0.01323,(BLDB_FM_8:0.06005,((BLDB_SM_13:0.04858,BLDB_SM_8:0.04858)Inner402:0.00106,((BLDB_SM_12:0.03498,BLDB_SM_11:0.03498)Inner342:0.00637,((BLDB_5FDH_A:0.03102,BLDB_4WMC_G:0.03102)Inner327:0.00490,(BLDB_FM_7:0.02617,((BLDB_SM_6:0.01030,BLDB_SM_5:0.01030)Inner176:0.00593,(((BLDB_6ZRP_A:0.00485,(BLDB_7L8O_A:0.00365,((BLDB_5QAZ_A:0.00113,BLDB_5QAO_A:0.00113)Inner33:0.00221,BLDB_5OE0_A:0.00334)Inner72:0.00031)Inner81:0.00120)Inner97:0.00076,BLDB_4S2N_A:0.00561)Inner110:0.00143,(BLDB_5FAS_A:0.00380,BLDB_4S2K_A:0.00380)Inner87:0.00324)Inner128:0.00919)Inner236:0.00994)Inner303:0.00974)Inner351:0.00544)Inner371:0.00829)Inner405:0.01041)Inner434:0.00518)Inner451:0.00630)Inner469:0.01095)Inner507:0.00202,(BLDB_SM_15:0.05807,(((BLDB_2WKI_A:0.00165,BLDB_2WKH_A:0.00165)Inner48:0.00949,(BLDB_4WZ5_A:0.00589,BLDB_1K54_A:0.00589)Inner112:0.00525)Inner186:0.02526,BLDB_1K4E_A:0.03640)Inner354:0.02167)Inner431:0.02643)Inner512:0.01228)Inner544:0.00910)Inner566:0.00642)Inner582:0.01628)Inner613:0.01700)Inner638:0.00777)Inner649:0.01887)Inner668:0.05149)Inner706:0.07858,(BLDB_FM_41:0.21932,((BLDB_6V4W_A:0.05650,BLDB_6NVT_A:0.05650)Inner424:0.13213,(BLDB_FM_37:0.17885,(BLDB_SM_37:0.15758,((BLDB_FM_35:0.12899,BLDB_FM_21:0.12899)Inner615:0.01954,(BLDB_FM_36:0.14536,((((BLDB_FM_33:0.09755,BLDB_FM_34:0.09755)Inner545:0.02246,(((BLDB_SM_35:0.07910,BLDB_SM_33:0.07910)Inner494:0.02086,BLDB_SM_24:0.09996)Inner553:0.01605,(BLDB_FM_26:0.11028,(BLDB_SM_0:0.10267,((BLDB_FM_28:0.08400,(BLDB_FM_31:0.07589,BLDB_FM_25:0.07589)Inner484:0.00811)Inner511:0.00808,((BLDB_FM_30:0.07504,BLDB_6IZC_A:0.07504)Inner479:0.01561,((BLDB_FM_24:0.07061,BLDB_FM_29:0.07061)Inner467:0.00787,(BLDB_4MBH_A:0.05099,(BLDB_3N4I_A:0.02934,(BLDB_SM_25:0.01751,(BLDB_3C7U_A:0.00813,(BLDB_8DE0_A:0.00604,((BLDB_7QLP_B:0.00429,(BLDB_8DE1_A:0.00261,BLDB_5KKF_A:0.00261)Inner64:0.00167)Inner92:0.00045,BLDB_1LI9_A:0.00473)Inner95:0.00131)Inner115:0.00209)Inner148:0.00937)Inner244:0.01183)Inner320:0.02165)Inner407:0.02748)Inner488:0.01217)Inner528:0.00144)Inner536:0.01058)Inner558:0.00762)Inner578:0.00573)Inner592:0.00400)Inner601:0.00140,(BLDB_FM_32:0.11101,((BLDB_FM_27:0.08940,((BLDB_SM_34:0.00000,BLDB_SM_49:0.00000)Inner1:0.08160,BLDB_FM_4:0.08160)Inner502:0.00780)Inner524:0.01171,(BLDB_FM_22:0.08861,(BLDB_FM_23:0.08258,((BLDB_SM_22:0.07363,(BLDB_SM_29:0.04638,(BLDB_SM_28:0.03467,(BLDB_5OYO_A:0.02405,(BLDB_7K8L_A:0.00961,BLDB_3N6I_A:0.00961)Inner165:0.01444)Inner296:0.01061)Inner340:0.01171)Inner393:0.02726)Inner475:0.00584,(((BLDB_6Z21_A:0.02143,BLDB_6D16_A:0.02143)Inner279:0.01934,BLDB_6B1Y_A:0.04077)Inner370:0.01427,((BLDB_5E2E_A:0.03765,((BLDB_6CYN_A:0.00839,((BLDB_7U70_A:0.00283,(BLDB_6UNB_A:0.00119,(BLDB_6OOH_A:0.00031,BLDB_6OOE_A:0.00031)Inner20:0.00087)Inner35:0.00164)Inner67:0.00545,(BLDB_7Q0Z_A:0.00337,(BLDB_4PM7_A:0.00195,BLDB_4PM6_A:0.00195)Inner53:0.00143)Inner73:0.00491)Inner149:0.00011)Inner151:0.01214,((BLDB_5KSC_A:0.00254,(BLDB_4C3Q_A:0.00113,BLDB_4BD0_A:0.00113)Inner34:0.00142)Inner61:0.01125,(BLDB_4XUZ_A:0.00710,BLDB_3BFC_A:0.00710)Inner132:0.00669)Inner215:0.00674)Inner267:0.01712)Inner360:0.01206,(BLDB_6W34_A:0.02116,BLDB_1I2W_A:0.02116)Inner275:0.02855)Inner406:0.00534)Inner417:0.02443)Inner495:0.00310)Inner508:0.00603)Inner521:0.01251)Inner557:0.00990)Inner580:0.01039)Inner603:0.01332,(BLDB_1PIO_A:0.01479,BLDB_1DJA_A:0.01479)Inner222:0.11993)Inner624:0.01064)Inner637:0.00316)Inner642:0.00905)Inner655:0.02127)Inner677:0.00978)Inner684:0.03069)Inner700:0.08297)Inner727:0.05708)Inner739:0.09961)Inner758:0.00506)Inner760:0.00488)Inner762:0.00643)Inner764:0.00262)Inner765:0.01850)Inner766:0.00000;\n"
     ]
    }
   ],
   "source": [
    "print(phylo_tree[\"newick\"])\n",
    "\n",
    "WD = \"wd\"\n",
    "Path(WD).mkdir(parents=True, exist_ok=True)\n",
    "with open(f'{WD}/qs-tree.all.newick', 'w', encoding='utf-8') as f:\n",
    "    f.write(phylo_tree[\"newick\"])"
   ],
   "metadata": {
    "collapsed": false,
    "ExecuteTime": {
     "end_time": "2025-03-27T16:10:08.889837Z",
     "start_time": "2025-03-27T16:10:08.885965Z"
    }
   },
   "id": "2f9d6302d1472a31",
   "execution_count": 3
  },
  {
   "cell_type": "markdown",
   "source": [
    "Use Tree Visualization Tools (e.g., https://itol.embl.de/) to visualize the newick format tree."
   ],
   "metadata": {
    "collapsed": false
   },
   "id": "b1c5af127cde8870"
  },
  {
   "cell_type": "markdown",
   "source": [
    "### Structural Phylogenetic Tree (3Di)\n",
    "\n",
    "Prepare zipped PDB files for calculation."
   ],
   "metadata": {
    "collapsed": false
   },
   "id": "51c1abde8d967572"
  },
  {
   "cell_type": "code",
   "outputs": [
    {
     "data": {
      "text/plain": "'/home/tz365/WS/PROTEVAL/notebooks/phylogeny/wd/pdbs.zip'"
     },
     "execution_count": 15,
     "metadata": {},
     "output_type": "execute_result"
    }
   ],
   "source": [
    "WD = Path(\"./wd/3Di\")\n",
    "WD.mkdir(parents=True, exist_ok=True)\n",
    "\n",
    "\n",
    "def prepare(protcode, wd=WD):\n",
    "    for path, name in zip(*get_paths(protcode)):\n",
    "        shutil.copy(path, wd / f\"{name}.pdb\")\n",
    "\n",
    "\n",
    "prepare(\"BLDB\")\n",
    "prepare(\"CYTC\")\n",
    "prepare(\"GFP\")\n",
    "prepare(\"RAS\")\n",
    "\n",
    "shutil.make_archive(WD.parent / \"pdbs\", \"zip\", WD)"
   ],
   "metadata": {
    "collapsed": false,
    "ExecuteTime": {
     "end_time": "2025-03-27T16:36:06.674208Z",
     "start_time": "2025-03-27T16:36:03.606017Z"
    }
   },
   "id": "46cdf30b02a86d61",
   "execution_count": 15
  },
  {
   "cell_type": "markdown",
   "source": [
    "Upload the zipped file to FoldTree.\n",
    "See more at https://github.com/DessimozLab/fold_tree."
   ],
   "metadata": {
    "collapsed": false
   },
   "id": "fdf132beda99da4b"
  },
  {
   "cell_type": "markdown",
   "source": [
    "### Phylogenetic Tree Summarization\n",
    "\n",
    "Make sure you have installed Dendropy.\n",
    "\n",
    "https://jeetsukumaran.github.io/DendroPy/"
   ],
   "metadata": {
    "collapsed": false
   },
   "id": "a9766561923e4da4"
  },
  {
   "cell_type": "code",
   "outputs": [],
   "source": [
    "from src.phylogenetics import normalize\n",
    "\n",
    "WD = Path(\"wd\")\n",
    "assert WD.exists()\n",
    "\n",
    "normalize(input_path=WD / \"qs-tree.all.newick\", output_path=WD / \"qs-tree.all.norm.newick\")\n",
    "normalize(input_path=WD / \"3di.foldtree.newick\", output_path=WD / \"3di.foldtree.norm.newick\")"
   ],
   "metadata": {
    "collapsed": false,
    "ExecuteTime": {
     "end_time": "2025-03-27T16:32:01.926144Z",
     "start_time": "2025-03-27T16:32:01.838222Z"
    }
   },
   "id": "eac3bb1b8852adf9",
   "execution_count": 5
  },
  {
   "cell_type": "markdown",
   "source": [
    "More about SumTrees.\n",
    "\n",
    "https://jeetsukumaran.github.io/DendroPy/programs/sumtrees.html"
   ],
   "metadata": {
    "collapsed": false
   },
   "id": "bafc16ca187d5e50"
  },
  {
   "cell_type": "code",
   "outputs": [
    {
     "name": "stdout",
     "output_type": "stream",
     "text": [
      "/==========================================================================\\\r\n",
      "|                                 SumTrees                                 |\r\n",
      "|                     Phylogenetic Tree Summarization                      |\r\n",
      "|                              Version 5.0.6                               |\r\n",
      "|                   By Jeet Sukumaran and Mark T. Holder                   |\r\n",
      "|                         Using: DendroPy 5.0.6 ()                         |\r\n",
      "+--------------------------------------------------------------------------+\r\n",
      "|                                 Citation                                 |\r\n",
      "|                                 ~~~~~~~~                                 |\r\n",
      "| If any stage of your work or analyses relies on code or programs from    |\r\n",
      "| this library, either directly or indirectly (e.g., through usage of your |\r\n",
      "| own or third-party programs, pipelines, or toolkits which use, rely on,  |\r\n",
      "| incorporate, or are otherwise primarily derivative of code/programs in   |\r\n",
      "| this library), please cite:                                              |\r\n",
      "|                                                                          |\r\n",
      "|   Moreno, M. A., Holder, M. T., & Sukumaran, J. (2024). DendroPy 5: a    |\r\n",
      "|     mature Python library for phylogenetic computing. Journal of Open    |\r\n",
      "|     Source Software, 9(101), 6943, https://doi.org/10.21105/joss.06943   |\r\n",
      "|                                                                          |\r\n",
      "|   Sukumaran, J and MT Holder. SumTrees: Phylogenetic Tree Summarization. |\r\n",
      "|     5.0.6. Available at https://github.com/jeetsukumaran/DendroPy.       |\r\n",
      "|                                                                          |\r\n",
      "| Note that, in the interests of scientific reproducibility, you should    |\r\n",
      "| describe in the text of your publications not only the specific          |\r\n",
      "| version of the SumTrees program, but also the DendroPy library used in   |\r\n",
      "| your analysis. For your information, you are running DendroPy 5.0.6      |\r\n",
      "| ().                                                                      |\r\n",
      "\\==========================================================================/\r\n",
      "\r\n",
      "SumTrees: Trees to be read from 1 source(s):\r\n",
      "SumTrees: - 'qs-tree.all.newick'\r\n",
      "SumTrees: Running in serial mode\r\n",
      "SumTrees: Analyzing: 'qs-tree.all.newick'\r\n",
      "SumTrees: 'qs-tree.all.newick': tree at offset 0 (analyzing)\r\n",
      "SumTrees: Analysis of source trees completed in: 0.024752 seconds\r\n",
      "SumTrees: Total of 1 trees analyzed for summarization:\r\n",
      "SumTrees: - All trees were treated as unweighted\r\n",
      "SumTrees: - All trees were unrooted\r\n",
      "SumTrees: - 767 unique taxa across all trees\r\n",
      "SumTrees: - 1532 unique splits out of a total of 1532 splits\r\n",
      "SumTrees: - 764 unique non-trivial splits counted out of a total of non-\r\n",
      "            trivial 764 splits\r\n",
      "SumTrees: Summarized onto consensus tree with minimum clade frequency\r\n",
      "          threshold of 0.5:\r\n",
      "SumTrees: - Support values expressed as proportions or probabilities\r\n",
      "SumTrees: - Edge lengths on target trees set to mean of edge lengths in\r\n",
      "            sources\r\n",
      "SumTrees: - Metadata annotations NOT added to target trees as metadata\r\n",
      "SumTrees: Writing primary results to: 'qs-tree.all.formated.newick'\r\n",
      "SumTrees: Summarization completed\r\n",
      "SumTrees: Started at: 2025-03-28 00:32:15.962266\r\n",
      "SumTrees: Ended at: 2025-03-28 00:32:16.135412\r\n",
      "SumTrees: Total elapsed time: 0.173146 seconds\r\n",
      "SumTrees: Actual analysis time: 0.024752 seconds\r\n"
     ]
    }
   ],
   "source": [
    "!cd {WD} && sumtrees --output=qs-tree.all.formated.newick --output-tree-format newick --set-edges mean-length --suppress-annotations qs-tree.all.newick"
   ],
   "metadata": {
    "collapsed": false,
    "ExecuteTime": {
     "end_time": "2025-03-27T16:32:16.282509Z",
     "start_time": "2025-03-27T16:32:15.755318Z"
    }
   },
   "id": "caeeb43b7cf103ca",
   "execution_count": 6
  },
  {
   "cell_type": "code",
   "outputs": [
    {
     "name": "stdout",
     "output_type": "stream",
     "text": [
      "/==========================================================================\\\r\n",
      "|                                 SumTrees                                 |\r\n",
      "|                     Phylogenetic Tree Summarization                      |\r\n",
      "|                              Version 5.0.6                               |\r\n",
      "|                   By Jeet Sukumaran and Mark T. Holder                   |\r\n",
      "|                         Using: DendroPy 5.0.6 ()                         |\r\n",
      "+--------------------------------------------------------------------------+\r\n",
      "|                                 Citation                                 |\r\n",
      "|                                 ~~~~~~~~                                 |\r\n",
      "| If any stage of your work or analyses relies on code or programs from    |\r\n",
      "| this library, either directly or indirectly (e.g., through usage of your |\r\n",
      "| own or third-party programs, pipelines, or toolkits which use, rely on,  |\r\n",
      "| incorporate, or are otherwise primarily derivative of code/programs in   |\r\n",
      "| this library), please cite:                                              |\r\n",
      "|                                                                          |\r\n",
      "|   Moreno, M. A., Holder, M. T., & Sukumaran, J. (2024). DendroPy 5: a    |\r\n",
      "|     mature Python library for phylogenetic computing. Journal of Open    |\r\n",
      "|     Source Software, 9(101), 6943, https://doi.org/10.21105/joss.06943   |\r\n",
      "|                                                                          |\r\n",
      "|   Sukumaran, J and MT Holder. SumTrees: Phylogenetic Tree Summarization. |\r\n",
      "|     5.0.6. Available at https://github.com/jeetsukumaran/DendroPy.       |\r\n",
      "|                                                                          |\r\n",
      "| Note that, in the interests of scientific reproducibility, you should    |\r\n",
      "| describe in the text of your publications not only the specific          |\r\n",
      "| version of the SumTrees program, but also the DendroPy library used in   |\r\n",
      "| your analysis. For your information, you are running DendroPy 5.0.6      |\r\n",
      "| ().                                                                      |\r\n",
      "\\==========================================================================/\r\n",
      "\r\n",
      "SumTrees: Trees to be read from 2 source(s):\r\n",
      "SumTrees: - 'qs-tree.all.norm.newick'\r\n",
      "SumTrees: - '3di.foldtree.norm.newick'\r\n",
      "SumTrees: Multiple processors (24) available: consider using the '-M' or '-m'\r\n",
      "          options to parallelize processing of trees\r\n",
      "SumTrees: Running in serial mode\r\n",
      "SumTrees: Analyzing 1 of 2: 'qs-tree.all.norm.newick'\r\n",
      "SumTrees: 'qs-tree.all.norm.newick': tree at offset 0 (analyzing)\r\n",
      "SumTrees: Analyzing 2 of 2: '3di.foldtree.norm.newick'\r\n",
      "SumTrees: '3di.foldtree.norm.newick': tree at offset 0 (analyzing)\r\n",
      "SumTrees: Analysis of source trees completed in: 0.055918 seconds\r\n",
      "SumTrees: Total of 2 trees analyzed for summarization:\r\n",
      "SumTrees: - All trees were treated as unweighted\r\n",
      "SumTrees: - All trees were unrooted\r\n",
      "SumTrees: - 767 unique taxa across all trees\r\n",
      "SumTrees: - 2264 unique splits out of a total of 3064 splits\r\n",
      "SumTrees: - 1496 unique non-trivial splits counted out of a total of non-\r\n",
      "            trivial 1528 splits\r\n",
      "SumTrees: Summarized onto consensus tree with minimum clade frequency\r\n",
      "          threshold of 0.5:\r\n",
      "SumTrees: - Support values expressed as proportions or probabilities\r\n",
      "SumTrees: - Edge lengths on target trees set to mean of edge lengths in\r\n",
      "            sources\r\n",
      "SumTrees: - Metadata annotations NOT added to target trees as metadata\r\n",
      "SumTrees: Writing primary results to: 'sum.norm.newick'\r\n",
      "SumTrees: Summarization completed\r\n",
      "SumTrees: Started at: 2025-03-28 00:32:26.859022\r\n",
      "SumTrees: Ended at: 2025-03-28 00:32:27.083430\r\n",
      "SumTrees: Total elapsed time: 0.224408 seconds\r\n",
      "SumTrees: Actual analysis time: 0.055918 seconds\r\n"
     ]
    }
   ],
   "source": [
    "!cd {WD} && sumtrees --output=sum.norm.newick --output-tree-format newick --set-edges mean-length --suppress-annotations qs-tree.all.norm.newick 3di.foldtree.norm.newick"
   ],
   "metadata": {
    "collapsed": false,
    "ExecuteTime": {
     "end_time": "2025-03-27T16:32:27.231672Z",
     "start_time": "2025-03-27T16:32:26.807868Z"
    }
   },
   "id": "fe8b497b7fdeed05",
   "execution_count": 7
  },
  {
   "cell_type": "raw",
   "source": [
    "Remove the headers: "
   ],
   "metadata": {
    "collapsed": false
   },
   "id": "bc8290118ea4201d"
  },
  {
   "cell_type": "markdown",
   "source": [
    "### Phylogenetic Tree Visualization"
   ],
   "metadata": {
    "collapsed": false
   },
   "id": "2ce0ad02a9421345"
  },
  {
   "cell_type": "code",
   "outputs": [
    {
     "name": "stdout",
     "output_type": "stream",
     "text": [
      "Added tree tree-1 with id 0.\n"
     ]
    }
   ],
   "source": [
    "from ete4.smartview import TreeLayout, NodeStyle\n",
    "from ete4 import Tree\n",
    "from pathlib import Path\n",
    "import src.colorscheme as color\n",
    "import pandas as pd\n",
    "\n",
    "WD = Path(\"wd\")\n",
    "tree = Tree(open(str(WD / \"sum.norm.newick\")))\n",
    "bldb = pd.read_csv(Path(\"../../data/BLDB_raw.csv\"))\n",
    "\n",
    "for node in tree.traverse():\n",
    "    node.support = None\n",
    "\n",
    "\n",
    "def get_class(pdb):\n",
    "    result = bldb[bldb['PDB'] == pdb]['Ambler Class']\n",
    "    return None if result.empty else result.values[0]\n",
    "\n",
    "\n",
    "def find_bldb_nodes(ambler):\n",
    "    nodes = []\n",
    "    for n in tree.traverse():\n",
    "        if not n.is_leaf:\n",
    "            continue\n",
    "        ids = n.name.split(\"_\")\n",
    "        cls, mtd = ids[0], ids[1]\n",
    "        if cls != \"BLDB\" or mtd in [\"FM\", \"SM\"]:\n",
    "            continue\n",
    "        pdb = mtd\n",
    "        if ambler == get_class(pdb):\n",
    "            nodes.append(n)\n",
    "    return nodes\n",
    "\n",
    "\n",
    "bldb_A = tree.common_ancestor(find_bldb_nodes(\"A\"))\n",
    "bldb_B = tree.common_ancestor(find_bldb_nodes(\"B1\") + find_bldb_nodes(\"B2\") + find_bldb_nodes(\"B3\"))\n",
    "bldb_C = tree.common_ancestor(find_bldb_nodes(\"C\"))\n",
    "bldb_D = tree.common_ancestor(find_bldb_nodes(\"D\"))\n",
    "\n",
    "\n",
    "def ns(n):\n",
    "    n.sm_style[\"hz_line_width\"] = 1.5\n",
    "    n.sm_style[\"vt_line_width\"] = 1.5\n",
    "    n.sm_style['hz_line_color'] = color.CS_BG_DARK\n",
    "\n",
    "    if n == bldb_A:\n",
    "        nst = NodeStyle()\n",
    "        nst[\"bgcolor\"] = \"#462222\"\n",
    "        n.set_style(nst)\n",
    "    elif n == bldb_B:\n",
    "        nst = NodeStyle()\n",
    "        nst[\"bgcolor\"] = \"#29506A\"\n",
    "        n.set_style(nst)\n",
    "    elif n == bldb_C:\n",
    "        nst = NodeStyle()\n",
    "        nst[\"bgcolor\"] = \"#778665\"\n",
    "        n.set_style(nst)\n",
    "    elif n == bldb_D:\n",
    "        nst = NodeStyle()\n",
    "        nst[\"bgcolor\"] = \"#B79861\"\n",
    "        n.set_style(nst)\n",
    "\n",
    "    n.sm_style[\"hz_line_width\"] = 1\n",
    "    n.sm_style[\"vt_line_width\"] = 1\n",
    "    n.sm_style['hz_line_color'] = \"#BBBBBB\"\n",
    "    n.sm_style['vt_line_color'] = \"#BBBBBB\"\n",
    "    if n.is_leaf:\n",
    "        ids = n.name.split(\"_\")\n",
    "        cls, mtd = ids[0], ids[1]\n",
    "        if mtd == \"SM\":\n",
    "            n.sm_style['size'] = 3\n",
    "            n.sm_style['fgcolor'] = color.CS_FG_A\n",
    "        elif mtd == \"FM\":\n",
    "            n.sm_style['size'] = 3\n",
    "            n.sm_style['fgcolor'] = color.CS_FG_B\n",
    "        if cls == \"BLDB\":\n",
    "            n.sm_style['hz_line_color'] = \"#2A4458\"\n",
    "        elif cls == \"CYTC\":\n",
    "            n.sm_style['hz_line_color'] = \"#9872CA\"\n",
    "        elif cls == \"RAS\":\n",
    "            n.sm_style['hz_line_color'] = \"#95A77E\"\n",
    "        elif cls == \"GFP\":\n",
    "            n.sm_style['hz_line_color'] = \"#E5BE79\"\n",
    "\n",
    "\n",
    "tree.explore(\n",
    "    keep_server=True,\n",
    "    layouts=[\n",
    "        TreeLayout(\n",
    "            name=\"SUM_TREE\",\n",
    "            ns=ns,\n",
    "            # ts=ts,\n",
    "            active=True,\n",
    "            aligned_faces=True\n",
    "        )\n",
    "    ])"
   ],
   "metadata": {
    "collapsed": false,
    "ExecuteTime": {
     "end_time": "2025-03-31T15:39:22.082143Z",
     "start_time": "2025-03-31T15:39:19.827951Z"
    }
   },
   "id": "cc61319040eb2f8f",
   "execution_count": 1
  },
  {
   "cell_type": "code",
   "outputs": [
    {
     "data": {
      "text/plain": "<Figure size 400x400 with 1 Axes>",
      "image/png": "[encoded data removed]"
     },
     "metadata": {},
     "output_type": "display_data"
    }
   ],
   "source": [
    "from matplotlib import pyplot as plt\n",
    "from matplotlib.lines import Line2D\n",
    "\n",
    "# Legends\n",
    "fig, ax = plt.subplots(figsize=(2, 2), dpi=200)\n",
    "plt.legend(\n",
    "    handles=[\n",
    "        Line2D([0], [0],\n",
    "               label=\"SM\", marker=\"o\", markerfacecolor=color.CS_FG_A,\n",
    "               markeredgewidth=0, markersize=10, linestyle=\"\"),\n",
    "        Line2D([0], [0],\n",
    "               label=\"FM\", marker=\"o\", markerfacecolor=color.CS_FG_B,\n",
    "               markeredgewidth=0, markersize=10, linestyle=\"\"),\n",
    "        Line2D([0], [0],\n",
    "               label=\"exp.\", color=color.CS_BG_DARK, linestyle=\"-\"),\n",
    "    ],\n",
    "    # loc='lower right',\n",
    "    # bbox_to_anchor=(1.28, 0)\n",
    ")\n",
    "plt.grid(False)\n",
    "plt.xticks([])\n",
    "plt.yticks([])\n",
    "plt.show()"
   ],
   "metadata": {
    "collapsed": false,
    "ExecuteTime": {
     "end_time": "2025-03-26T19:52:38.057472Z",
     "start_time": "2025-03-26T19:52:37.925101Z"
    }
   },
   "id": "14c75ce96af1a5c0",
   "execution_count": 13
  },
  {
   "cell_type": "markdown",
   "source": [
    "### Phylogenetic Tree Visualization (Q-score)"
   ],
   "metadata": {
    "collapsed": false
   },
   "id": "556626528c25b8a"
  },
  {
   "cell_type": "code",
   "outputs": [
    {
     "name": "stdout",
     "output_type": "stream",
     "text": [
      "Added tree tree-2 with id 0.\n"
     ]
    }
   ],
   "source": [
    "from ete4.smartview import TreeLayout\n",
    "from ete4 import Tree\n",
    "from pathlib import Path\n",
    "\n",
    "WD = Path(\"wd\")\n",
    "tree = Tree(open(str(WD / \"qs-tree.all.formated.newick\")))\n",
    "\n",
    "for node in tree.traverse():\n",
    "    node.support = None\n",
    "\n",
    "\n",
    "def ns(n):\n",
    "    n.sm_style[\"hz_line_width\"] = 1.5\n",
    "    n.sm_style[\"vt_line_width\"] = 1.5\n",
    "    n.sm_style['hz_line_color'] = color.CS_BG_DARK\n",
    "\n",
    "    if n.is_leaf:\n",
    "        ids = n.name.split(\"_\")\n",
    "        cls, mtd = ids[0], ids[1]\n",
    "        if mtd == \"SM\":\n",
    "            n.sm_style['size'] = 3\n",
    "            n.sm_style['fgcolor'] = color.CS_FG_A\n",
    "        elif mtd == \"FM\":\n",
    "            n.sm_style['size'] = 3\n",
    "            n.sm_style['fgcolor'] = color.CS_FG_B\n",
    "\n",
    "\n",
    "tree.explore(\n",
    "    keep_server=True,\n",
    "    layouts=[\n",
    "        TreeLayout(\n",
    "            name=\"SUM_TREE\",\n",
    "            ns=ns,\n",
    "            # ts=ts,\n",
    "            active=True,\n",
    "            aligned_faces=True\n",
    "        )\n",
    "    ])"
   ],
   "metadata": {
    "collapsed": false,
    "ExecuteTime": {
     "end_time": "2025-03-27T20:02:49.956723Z",
     "start_time": "2025-03-27T20:02:49.920348Z"
    }
   },
   "id": "f86b9032c95e8e9b",
   "execution_count": 6
  },
  {
   "cell_type": "markdown",
   "source": [
    "### Phylogenetic Tree Visualization (3Di)"
   ],
   "metadata": {
    "collapsed": false
   },
   "id": "e44d2f1536ab312f"
  },
  {
   "cell_type": "code",
   "outputs": [
    {
     "name": "stdout",
     "output_type": "stream",
     "text": [
      "Added tree tree-2 with id 0.\n"
     ]
    }
   ],
   "source": [
    "from ete4.smartview import TreeLayout, NodeStyle\n",
    "from ete4 import Tree\n",
    "from pathlib import Path\n",
    "import src.colorscheme as color\n",
    "import pandas as pd\n",
    "\n",
    "WD = Path(\"wd\")\n",
    "tree = Tree(open(str(WD / \"3di.foldtree.norm.newick\")))\n",
    "\n",
    "def ns(n):\n",
    "    n.sm_style[\"hz_line_width\"] = 1.5\n",
    "    n.sm_style[\"vt_line_width\"] = 1.5\n",
    "    n.sm_style['hz_line_color'] = color.CS_BG_DARK\n",
    "\n",
    "    n.sm_style[\"hz_line_width\"] = 1\n",
    "    n.sm_style[\"vt_line_width\"] = 1\n",
    "    n.sm_style['hz_line_color'] = \"#BBBBBB\"\n",
    "    n.sm_style['vt_line_color'] = \"#BBBBBB\"\n",
    "    \n",
    "    if n.is_leaf:\n",
    "        ids = n.name.split(\"_\")\n",
    "        cls, mtd = ids[0], ids[1]\n",
    "        if mtd == \"SM\":\n",
    "            n.sm_style['size'] = 3\n",
    "            n.sm_style['fgcolor'] = color.CS_FG_A\n",
    "        elif mtd == \"FM\":\n",
    "            n.sm_style['size'] = 3\n",
    "            n.sm_style['fgcolor'] = color.CS_FG_B\n",
    "        if cls == \"BLDB\":\n",
    "            n.sm_style['hz_line_color'] = \"#2A4458\"\n",
    "        elif cls == \"CYTC\":\n",
    "            n.sm_style['hz_line_color'] = \"#9872CA\"\n",
    "        elif cls == \"RAS\":\n",
    "            n.sm_style['hz_line_color'] = \"#95A77E\"\n",
    "        elif cls == \"GFP\":\n",
    "            n.sm_style['hz_line_color'] = \"#E5BE79\"\n",
    "\n",
    "tree.explore(\n",
    "    keep_server=True,\n",
    "    layouts=[\n",
    "        TreeLayout(\n",
    "            name=\"SUM_TREE\",\n",
    "            ns=ns,\n",
    "            # ts=ts,\n",
    "            active=True,\n",
    "            aligned_faces=True\n",
    "        )\n",
    "    ])"
   ],
   "metadata": {
    "collapsed": false,
    "ExecuteTime": {
     "end_time": "2025-03-29T10:19:53.134283Z",
     "start_time": "2025-03-29T10:19:53.098638Z"
    }
   },
   "id": "1e4e70a4ffc2a818",
   "execution_count": 2
  },
  {
   "cell_type": "markdown",
   "source": [
    "# Sequence-based Phylogenetic"
   ],
   "metadata": {
    "collapsed": false
   },
   "id": "b667c7143f6608a5"
  },
  {
   "cell_type": "code",
   "outputs": [],
   "source": [
    "from Bio import PDB\n",
    "from Bio.SeqUtils import seq1\n",
    "\n",
    "WD = Path(\"./wd/FastTree\")\n",
    "WD.mkdir()\n",
    "\n",
    "fasta = \"sequences.fasta\"\n",
    "\n",
    "with open(WD / fasta, \"w\") as f:\n",
    "    for pdb in Path(\"./wd/3Di\").glob(\"*.pdb\"):\n",
    "        parser = PDB.PDBParser(QUIET=True)\n",
    "        structure = parser.get_structure(\"structure_id\", pdb)\n",
    "        for model in structure:\n",
    "            for chain in model:\n",
    "                sequence = \"\"\n",
    "                for residue in chain:\n",
    "                    if PDB.is_aa(residue, standard=True):\n",
    "                        sequence += seq1(residue.get_resname())\n",
    "                f.write(f\">{pdb.stem}\\n\")\n",
    "                f.write(f\"{sequence}\\n\")"
   ],
   "metadata": {
    "collapsed": false,
    "ExecuteTime": {
     "end_time": "2025-03-27T16:38:56.690621Z",
     "start_time": "2025-03-27T16:38:47.467326Z"
    }
   },
   "id": "9c064447f422e9be",
   "execution_count": 20
  },
  {
   "cell_type": "code",
   "outputs": [],
   "source": [
    "WD = \"./wd/FastTree\"\n",
    "!cd {WD} && clustalo -i {fasta} -o {Path(fasta).stem}.aln.fasta --outfmt=fa"
   ],
   "metadata": {
    "collapsed": false,
    "ExecuteTime": {
     "end_time": "2025-03-27T16:41:57.287953Z",
     "start_time": "2025-03-27T16:38:59.229061Z"
    }
   },
   "id": "a6db9bd178b5ba13",
   "execution_count": 21
  },
  {
   "cell_type": "code",
   "outputs": [
    {
     "name": "stdout",
     "output_type": "stream",
     "text": [
      "FastTree Version 2.1.11 Double precision (No SSE3)\r\n",
      "Alignment: FastTree/sequences.aln.fasta\r\n",
      "Amino acid distances: BLOSUM45 Joins: balanced Support: SH-like 1000\r\n",
      "Search: Normal +NNI +SPR (2 rounds range 10) +ML-NNI opt-each=1\r\n",
      "TopHits: 1.00*sqrtN close=default refresh=0.80\r\n",
      "ML Model: Jones-Taylor-Thorton, CAT approximation with 20 rate categories\r\n",
      "      0.52 seconds: Joined    600 of    711   \r14 seqs (at seed    600)         0.39 seconds: Joined    400 of    711   Initial topology in 0.57 seconds\r\n",
      "Refining topology: 38 rounds ME-NNIs, 2 rounds ME-SPRs, 19 rounds ML-NNIs\r\n",
      "      3.86 seconds: ME NNI round 38 of 38, 1 of 712 splits   \r \rchanges (max delta 0.225)   \r     1.07 seconds: SPR round   1 of   2, 301 of 1426 nodes         1.39 seconds: SPR round   1 of   2, 601 of 1426 nodes         1.71 seconds: SPR round   1 of   2, 901 of 1426 nodes         1.94 seconds: SPR round   1 of   2, 1101 of 1426 nodes         2.17 seconds: SPR round   1 of   2, 1301 of 1426 nodes         2.37 seconds: ME NNI round 17 of 38, 1 of 712 splits         2.65 seconds: SPR round   2 of   2, 301 of 1426 nodes         2.96 seconds: SPR round   2 of   2, 601 of 1426 nodes         3.20 seconds: SPR round   2 of   2, 901 of 1426 nodes         3.53 seconds: SPR round   2 of   2, 1201 of 1426 nodes         3.76 seconds: ME NNI round 25 of 38, 101 of 712 splits, 2 changes (max delta 0.004)   Total branch-length 280.285 after 3.91 sec\r\n",
      "ML-NNI round 1: LogLk = -208785.551 NNIs 242 max delta 13.95 Time 13.71s (max delta 13.945)   \r\n",
      "Switched to using 20 rate categories (CAT approximation)19 of 20   \r\n",
      "Rate categories were divided by 0.950 so that average rate = 1.0\r\n",
      "CAT-based log-likelihoods may not be comparable across runs\r\n",
      "Use -gamma for approximate but comparable Gamma(20) log-likelihoods\r\n",
      "ML-NNI round 2: LogLk = -205945.492 NNIs 172 max delta 10.51 Time 21.37s (max delta 10.514)   \r\n",
      "ML-NNI round 3: LogLk = -205858.648 NNIs 129 max delta 7.42 Time 26.52es (max delta 7.420)   \r\n",
      "ML-NNI round 4: LogLk = -205816.270 NNIs 91 max delta 5.70 Time 30.16es (max delta 5.704)   \r\n",
      "ML-NNI round 5: LogLk = -205785.648 NNIs 74 max delta 10.93 Time 32.91s (max delta 10.932)   \r\n",
      "ML-NNI round 6: LogLk = -205776.853 NNIs 66 max delta 4.35 Time 34.92es (max delta 4.348)   \r\n",
      "ML-NNI round 7: LogLk = -205759.491 NNIs 57 max delta 13.02 Time 36.51s (max delta 13.018)   \r\n",
      "ML-NNI round 8: LogLk = -205758.811 NNIs 53 max delta 0.00 Time 37.86es (max delta 0.000)   \r\n",
      "Turning off heuristics for final round of ML NNIs (converged)\r\n",
      "ML-NNI round 9: LogLk = -205745.509 NNIs 98 max delta 1.76 Time 45.71 (final)delta 1.205)   \r\n",
      "Optimize all lengths: LogLk = -205744.262 Time 47.49\r\n",
      "Total time: 53.43 seconds Unique: 714/767 Bad splits: 2/711 Worst delta-LogLk 1.517\r\n"
     ]
    }
   ],
   "source": [
    "WD = \"./wd\"\n",
    "!cd {WD} && fasttree FastTree/{Path(fasta).stem}.aln.fasta > fasttree.all.newick"
   ],
   "metadata": {
    "collapsed": false,
    "ExecuteTime": {
     "end_time": "2025-03-27T16:51:11.815991Z",
     "start_time": "2025-03-27T16:50:18.247623Z"
    }
   },
   "id": "517f021e2af7024a",
   "execution_count": 22
  },
  {
   "cell_type": "code",
   "outputs": [],
   "source": [
    "from src.phylogenetics import normalize\n",
    "normalize(input_path=WD / \"fasttree.all.newick\", output_path=WD / \"fasttree.all.norm.newick\")"
   ],
   "metadata": {
    "collapsed": false,
    "ExecuteTime": {
     "end_time": "2025-03-29T12:30:58.654744Z",
     "start_time": "2025-03-29T12:30:58.412320Z"
    }
   },
   "id": "9c254722f6dd2f10",
   "execution_count": 4
  },
  {
   "cell_type": "code",
   "outputs": [
    {
     "name": "stdout",
     "output_type": "stream",
     "text": [
      "Added tree tree-8 with id 0.\n"
     ]
    }
   ],
   "source": [
    "from ete4.smartview import TreeLayout, NodeStyle\n",
    "from ete4 import Tree\n",
    "from pathlib import Path\n",
    "import src.colorscheme as color\n",
    "import pandas as pd\n",
    "\n",
    "WD = Path(\"wd\")\n",
    "tree = Tree(open(str(WD / \"fasttree.all.norm.newick\")))\n",
    "\n",
    "for node in tree.traverse():\n",
    "    node.support = None\n",
    "\n",
    "def ns(n):\n",
    "    n.sm_style[\"hz_line_width\"] = 1.5\n",
    "    n.sm_style[\"vt_line_width\"] = 1.5\n",
    "    n.sm_style['hz_line_color'] = color.CS_BG_DARK\n",
    "\n",
    "    n.sm_style[\"hz_line_width\"] = 1\n",
    "    n.sm_style[\"vt_line_width\"] = 1\n",
    "    n.sm_style['hz_line_color'] = \"#BBBBBB\"\n",
    "    n.sm_style['vt_line_color'] = \"#BBBBBB\"\n",
    "    if n.is_leaf:\n",
    "        ids = n.name.split(\"_\")\n",
    "        cls, mtd = ids[0], ids[1]\n",
    "        if mtd == \"SM\":\n",
    "            n.sm_style['size'] = 3\n",
    "            n.sm_style['fgcolor'] = color.CS_FG_A\n",
    "        elif mtd == \"FM\":\n",
    "            n.sm_style['size'] = 3\n",
    "            n.sm_style['fgcolor'] = color.CS_FG_B\n",
    "        if cls == \"BLDB\":\n",
    "            n.sm_style['hz_line_color'] = \"#2A4458\"\n",
    "        elif cls == \"CYTC\":\n",
    "            n.sm_style['hz_line_color'] = \"#9872CA\"\n",
    "        elif cls == \"RAS\":\n",
    "            n.sm_style['hz_line_color'] = \"#95A77E\"\n",
    "        elif cls == \"GFP\":\n",
    "            n.sm_style['hz_line_color'] = \"#E5BE79\"\n",
    "\n",
    "tree.explore(\n",
    "    keep_server=True,\n",
    "    layouts=[\n",
    "        TreeLayout(\n",
    "            name=\"SUM_TREE\",\n",
    "            ns=ns,\n",
    "            # ts=ts,\n",
    "            active=True,\n",
    "            aligned_faces=True\n",
    "        )\n",
    "    ])"
   ],
   "metadata": {
    "collapsed": false,
    "ExecuteTime": {
     "end_time": "2025-03-30T12:59:28.525593Z",
     "start_time": "2025-03-30T12:59:28.491800Z"
    }
   },
   "id": "16a17bd994420cdd",
   "execution_count": 8
  },
  {
   "cell_type": "code",
   "outputs": [],
   "source": [],
   "metadata": {
    "collapsed": false
   },
   "id": "e079129aa15aff4c"
  }
 ],
 "metadata": {
  "kernelspec": {
   "display_name": "Python 3",
   "language": "python",
   "name": "python3"
  },
  "language_info": {
   "codemirror_mode": {
    "name": "ipython",
    "version": 2
   },
   "file_extension": ".py",
   "mimetype": "text/x-python",
   "name": "python",
   "nbconvert_exporter": "python",
   "pygments_lexer": "ipython2",
   "version": "2.7.6"
  }
 },
 "nbformat": 4,
 "nbformat_minor": 5
}
