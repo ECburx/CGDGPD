{
 "cells": [
  {
   "cell_type": "code",
   "execution_count": null,
   "id": "initial_id",
   "metadata": {
    "collapsed": true
   },
   "outputs": [],
   "source": [
    "from pathlib import Path\n",
    "import os\n",
    "\n",
    "WD = os.getcwd()\n",
    "\n",
    "MIN_HOMOLOGY = 0.45\n",
    "MAX_TEMPLATES = 3\n",
    "GENERATED_CLS = \"RAS\""
   ]
  },
  {
   "cell_type": "code",
   "outputs": [],
   "source": [
    "for i in range(50):\n",
    "    GENERATED_SID = f\"FM_{i}\"\n",
    "    try:\n",
    "        if Path(f\"wd/{GENERATED_CLS}/{GENERATED_SID}\").exists():\n",
    "            continue\n",
    "        %run sidechain-modelling.ipynb\n",
    "        %cd {WD}\n",
    "    except Exception:\n",
    "        Path(f\"wd/{GENERATED_CLS}/{GENERATED_SID}X\").mkdir()"
   ],
   "metadata": {
    "collapsed": false
   },
   "id": "5cab644e27a517ba",
   "execution_count": null
  },
  {
   "cell_type": "code",
   "outputs": [],
   "source": [
    "import shutil\n",
    "from pathlib import Path\n",
    "\n",
    "dst_path = Path(f\"../../data/{GENERATED_CLS}/generated/BQS\")\n",
    "dst_path.mkdir(parents=True, exist_ok=True)\n",
    "for s in Path(f\"wd/{GENERATED_CLS}\").iterdir():\n",
    "    shutil.copy(\n",
    "        src=s / f\"{s.name}.best.pdb\",\n",
    "        dst=dst_path / f\"{s.name}.pdb\"\n",
    "    )"
   ],
   "metadata": {
    "collapsed": false,
    "ExecuteTime": {
     "end_time": "2025-03-25T13:41:06.435082Z",
     "start_time": "2025-03-25T13:41:06.298744Z"
    }
   },
   "id": "5d5bf3c31e4b6c77",
   "execution_count": 3
  },
  {
   "cell_type": "code",
   "outputs": [],
   "source": [],
   "metadata": {
    "collapsed": false
   },
   "id": "6635f5b94b9d105c"
  }
 ],
 "metadata": {
  "kernelspec": {
   "display_name": "Python 3",
   "language": "python",
   "name": "python3"
  },
  "language_info": {
   "codemirror_mode": {
    "name": "ipython",
    "version": 2
   },
   "file_extension": ".py",
   "mimetype": "text/x-python",
   "name": "python",
   "nbconvert_exporter": "python",
   "pygments_lexer": "ipython2",
   "version": "2.7.6"
  }
 },
 "nbformat": 4,
 "nbformat_minor": 5
}
