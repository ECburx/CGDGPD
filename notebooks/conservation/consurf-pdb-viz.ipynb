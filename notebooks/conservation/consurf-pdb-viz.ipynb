{
 "cells": [
  {
   "cell_type": "code",
   "execution_count": 1,
   "id": "initial_id",
   "metadata": {
    "collapsed": true,
    "ExecuteTime": {
     "end_time": "2025-05-23T15:28:52.640742Z",
     "start_time": "2025-05-23T15:28:52.192181Z"
    }
   },
   "outputs": [],
   "source": [
    "from pathlib import Path\n",
    "\n",
    "import pandas as pd\n",
    "from pymol import cmd\n",
    "\n",
    "import src.colorscheme as color\n",
    "\n",
    "color.CS_FG_A = \"#222222\""
   ]
  },
  {
   "cell_type": "code",
   "outputs": [
    {
     "name": "stdout",
     "output_type": "stream",
     "text": [
      " Ray: render time: 2.18 sec. = 1653.3 frames/hour (2.18 sec. accum.).\n",
      " Ray: render time: 2.05 sec. = 1754.7 frames/hour (4.23 sec. accum.).\n",
      " Ray: render time: 2.03 sec. = 1776.0 frames/hour (6.26 sec. accum.).\n"
     ]
    }
   ],
   "source": [
    "cmd.reinitialize()\n",
    "\n",
    "WD = Path(\"wd/BLDB\")\n",
    "PDB1 = WD / \"1GHP.pdb\"\n",
    "PDB2 = WD / \"1FQG.pdb\"\n",
    "PDB3 = WD / \"SM_0_BLDB.pdb\"\n",
    "PDB4 = WD / \"FM_4_BLDB.pdb\"\n",
    "cmd.load(PDB2, \"PDB2\")\n",
    "cmd.load(PDB1, \"PDB1\")\n",
    "cmd.load(PDB3, \"PDB3\")\n",
    "cmd.load(PDB4, \"PDB4\")\n",
    "cmd.align(\"PDB2\", \"PDB1\")\n",
    "cmd.align(\"PDB3\", \"PDB1\")\n",
    "cmd.align(\"PDB4\", \"PDB1\")\n",
    "\n",
    "cmd.remove(\"solvent\")\n",
    "cmd.remove('PDB1 and resn SO4')\n",
    "cmd.remove('PDB1 and chain B')\n",
    "cmd.remove('PDB2 and resn SO4')\n",
    "cmd.remove('PDB2 and chain B')\n",
    "cmd.set('transparency', 0.5, 'polymer')\n",
    "\n",
    "cmd.zoom(\"all\", buffer=0)\n",
    "cmd.rotate(\"x\", 80)\n",
    "cmd.rotate(\"y\", -15)\n",
    "cmd.rotate(\"z\", 90)\n",
    "\n",
    "cmd.hide(\"cartoon\", \"PDB1\")\n",
    "cmd.hide(\"cartoon\", \"PDB2\")\n",
    "cmd.hide(\"cartoon\", \"PDB3\")\n",
    "cmd.hide(\"cartoon\", \"PDB4\")\n",
    "cmd.hide(\"sticks\", \"PDB1\")\n",
    "cmd.hide(\"sticks\", \"PDB2\")\n",
    "cmd.hide(\"sticks\", \"PDB3\")\n",
    "cmd.hide(\"sticks\", \"PDB4\")\n",
    "\n",
    "cmd.show(\"cartoon\", \"PDB2\")\n",
    "cmd.show(\"sticks\", \"PDB2 and not polymer\")\n",
    "cmd.show(\"sticks\", \"PDB2 and resi 130\")\n",
    "cmd.show(\"sticks\", \"PDB2 and resi 170\")\n",
    "cmd.show(\"sticks\", \"PDB2 and resi 235\")\n",
    "cmd.show(\"sticks\", \"PDB2 and resi 237\")\n",
    "cmd.show(\"sticks\", \"PDB2 and resi 243\")\n",
    "cmd.spectrum(\"b\", f\"0xffffff 0x{color.CS_FG_A[1:]}\", minimum=1, maximum=9, selection=\"polymer\")\n",
    "# cmd.spectrum(\"b\", f\"0x{color.CS_FG_B[1:]} 0x{color.CS_FG_A[1:]}\", minimum=1, maximum=9, selection=\"polymer\")\n",
    "cmd.png(str(WD / f\"{PDB2.stem}.png\"), width=1000, height=1000, dpi=300)\n",
    "cmd.hide(\"cartoon\", \"PDB2\")\n",
    "cmd.hide(\"sticks\", \"PDB2\")\n",
    "\n",
    "# SM\n",
    "cmd.show(\"cartoon\", \"PDB3\")\n",
    "df = pd.read_csv(\"../../data/BLDB/generated/C/SM_0_consurf_grades.csv\")\n",
    "cmd.spectrum(\"b\", f\"0xffffff 0x{color.CS_FG_A[1:]}\", minimum=1, maximum=9, selection=\"polymer\")\n",
    "# cmd.spectrum(\"b\", f\"0x{color.CS_FG_B[1:]} 0x{color.CS_FG_A[1:]}\", minimum=1, maximum=9, selection=\"polymer\")\n",
    "# for f in df[df[\"F/S\"] == \"f\"][\"POS\"].values:\n",
    "#     cmd.color('0xFF2A00', f'PDB3 and resi {f}')\n",
    "# for f in df[df[\"F/S\"] == \"s\"][\"POS\"].values:\n",
    "#     cmd.color('0x6DFF00', f'PDB3 and resi {f}')\n",
    "cmd.png(str(WD / f\"{PDB3.stem} ({PDB1.stem}).png\"), width=1000, height=1000, dpi=300)\n",
    "cmd.hide(\"cartoon\", \"PDB3\")\n",
    "cmd.hide(\"sticks\", \"PDB3\")\n",
    "\n",
    "# FM\n",
    "cmd.show(\"cartoon\", \"PDB4\")\n",
    "df = pd.read_csv(\"../../data/BLDB/generated/C/FM_4_consurf_grades.csv\")\n",
    "cmd.spectrum(\"b\", f\"0xffffff 0x{color.CS_FG_A[1:]}\", minimum=1, maximum=9, selection=\"polymer\")\n",
    "# cmd.spectrum(\"b\", f\"0x{color.CS_FG_B[1:]} 0x{color.CS_FG_A[1:]}\", minimum=1, maximum=9, selection=\"polymer\")\n",
    "# for f in df[df[\"F/S\"] == \"f\"][\"POS\"].values:\n",
    "#     cmd.color('0xFF2A00', f'PDB4 and resi {f}')\n",
    "# for f in df[df[\"F/S\"] == \"s\"][\"POS\"].values:\n",
    "#     cmd.color('0x6DFF00', f'PDB4 and resi {f}')\n",
    "cmd.png(str(WD / f\"{PDB4.stem} ({PDB1.stem}).png\"), width=1000, height=1000, dpi=300)\n",
    "cmd.hide(\"cartoon\", \"PDB4\")\n",
    "cmd.hide(\"sticks\", \"PDB4\")"
   ],
   "metadata": {
    "collapsed": false,
    "ExecuteTime": {
     "end_time": "2025-05-23T15:28:59.693964Z",
     "start_time": "2025-05-23T15:28:53.121733Z"
    }
   },
   "id": "3a751414d463572c",
   "execution_count": 2
  },
  {
   "cell_type": "code",
   "outputs": [
    {
     "name": "stdout",
     "output_type": "stream",
     "text": [
      " Ray: render time: 1.37 sec. = 2623.3 frames/hour (7.63 sec. accum.).\n",
      " Ray: render time: 1.25 sec. = 2870.7 frames/hour (8.88 sec. accum.).\n",
      " Ray: render time: 1.21 sec. = 2974.9 frames/hour (10.09 sec. accum.).\n"
     ]
    }
   ],
   "source": [
    "cmd.reinitialize()\n",
    "\n",
    "WD = Path(\"wd/CYTC\")\n",
    "PDB1 = WD / \"1HRC.pdb\"\n",
    "PDB3 = WD / \"SM_1_CYTC.pdb\"\n",
    "PDB4 = WD / \"FM_0_CYTC.pdb\"\n",
    "cmd.load(PDB1, \"PDB1\")\n",
    "cmd.load(PDB3, \"PDB3\")\n",
    "cmd.load(PDB4, \"PDB4\")\n",
    "cmd.align(\"PDB3\", \"PDB1\")\n",
    "cmd.align(\"PDB4\", \"PDB1\")\n",
    "\n",
    "cmd.remove(\"solvent\")\n",
    "cmd.set('transparency', 0.5, 'polymer')\n",
    "\n",
    "cmd.zoom(\"all\", buffer=-3)\n",
    "cmd.rotate(\"x\", 75)\n",
    "cmd.rotate(\"y\", 10)\n",
    "\n",
    "cmd.hide(\"cartoon\", \"PDB1\")\n",
    "cmd.hide(\"cartoon\", \"PDB3\")\n",
    "cmd.hide(\"cartoon\", \"PDB4\")\n",
    "cmd.hide(\"sticks\", \"PDB1\")\n",
    "cmd.hide(\"sticks\", \"PDB3\")\n",
    "cmd.hide(\"sticks\", \"PDB4\")\n",
    "\n",
    "cmd.show(\"cartoon\", \"PDB1\")\n",
    "cmd.show(\"sticks\", \"PDB1 and not polymer\")\n",
    "cmd.show(\"sticks\", \"PDB1 and resi 18\")\n",
    "cmd.show(\"sticks\", \"PDB1 and resi 80\")\n",
    "cmd.show(\"sticks\", \"PDB1 and resi 14\")\n",
    "cmd.show(\"sticks\", \"PDB1 and resi 17\")\n",
    "cmd.spectrum(\"b\", f\"0xffffff 0x{color.CS_FG_A[1:]}\", minimum=1, maximum=9, selection=\"polymer\")\n",
    "cmd.png(str(WD / f\"{PDB1.stem}.png\"), width=1000, height=1000, dpi=300)\n",
    "cmd.hide(\"cartoon\", \"PDB1\")\n",
    "cmd.hide(\"sticks\", \"PDB1\")\n",
    "\n",
    "# SM\n",
    "cmd.show(\"cartoon\", \"PDB3\")\n",
    "df = pd.read_csv(\"../../data/CYTC/generated/C/SM_1_consurf_grades.csv\")\n",
    "cmd.spectrum(\"b\", f\"0xffffff 0x{color.CS_FG_A[1:]}\", minimum=1, maximum=9, selection=\"polymer\")\n",
    "# for f in df[df[\"F/S\"] == \"f\"][\"POS\"].values:\n",
    "#     cmd.color('0xFF2A00', f'PDB3 and resi {f}')\n",
    "# for f in df[df[\"F/S\"] == \"s\"][\"POS\"].values:\n",
    "#     cmd.color('0x6DFF00', f'PDB3 and resi {f}')\n",
    "cmd.png(str(WD / f\"{PDB3.stem} ({PDB1.stem}).png\"), width=1000, height=1000, dpi=300)\n",
    "cmd.hide(\"cartoon\", \"PDB3\")\n",
    "cmd.hide(\"sticks\", \"PDB3\")\n",
    "\n",
    "# FM\n",
    "cmd.show(\"cartoon\", \"PDB4\")\n",
    "df = pd.read_csv(\"../../data/CYTC/generated/C/FM_0_consurf_grades.csv\")\n",
    "cmd.spectrum(\"b\", f\"0xffffff 0x{color.CS_FG_A[1:]}\", minimum=1, maximum=9, selection=\"polymer\")\n",
    "# for f in df[df[\"F/S\"] == \"f\"][\"POS\"].values:\n",
    "#     cmd.color('0xFF2A00', f'PDB4 and resi {f}')\n",
    "# for f in df[df[\"F/S\"] == \"s\"][\"POS\"].values:\n",
    "#     cmd.color('0x6DFF00', f'PDB4 and resi {f}')\n",
    "cmd.png(str(WD / f\"{PDB4.stem} ({PDB1.stem}).png\"), width=1000, height=1000, dpi=300)\n",
    "cmd.hide(\"cartoon\", \"PDB4\")\n",
    "cmd.hide(\"sticks\", \"PDB4\")"
   ],
   "metadata": {
    "collapsed": false,
    "ExecuteTime": {
     "end_time": "2025-05-23T15:30:34.631377Z",
     "start_time": "2025-05-23T15:30:30.585217Z"
    }
   },
   "id": "190cca3b390942e",
   "execution_count": 3
  },
  {
   "cell_type": "code",
   "outputs": [
    {
     "name": "stdout",
     "output_type": "stream",
     "text": [
      " Ray: render time: 1.31 sec. = 2755.1 frames/hour (11.40 sec. accum.).\n",
      " Ray: render time: 1.43 sec. = 2523.0 frames/hour (12.83 sec. accum.).\n",
      " Ray: render time: 1.28 sec. = 2806.1 frames/hour (14.11 sec. accum.).\n"
     ]
    }
   ],
   "source": [
    "cmd.reinitialize()\n",
    "\n",
    "WD = Path(\"wd/GFP\")\n",
    "PDB1 = WD / \"4KW4.pdb\"\n",
    "PDB3 = WD / \"SM_10_GFP.pdb\"\n",
    "PDB4 = WD / \"FM_49_GFP.pdb\"\n",
    "cmd.load(PDB1, \"PDB1\")\n",
    "cmd.load(PDB3, \"PDB3\")\n",
    "cmd.load(PDB4, \"PDB4\")\n",
    "cmd.align(\"PDB3\", \"PDB1\")\n",
    "cmd.align(\"PDB4\", \"PDB1\")\n",
    "\n",
    "cmd.remove(\"solvent\")\n",
    "cmd.set('transparency', 0.5, 'polymer')\n",
    "\n",
    "cmd.zoom(\"all\", buffer=2)\n",
    "cmd.rotate(\"x\", 45)\n",
    "cmd.rotate(\"y\", 45)\n",
    "cmd.rotate(\"z\", 45)\n",
    "\n",
    "cmd.hide(\"cartoon\", \"PDB1\")\n",
    "cmd.hide(\"cartoon\", \"PDB3\")\n",
    "cmd.hide(\"cartoon\", \"PDB4\")\n",
    "cmd.hide(\"sticks\", \"PDB1\")\n",
    "cmd.hide(\"sticks\", \"PDB3\")\n",
    "cmd.hide(\"sticks\", \"PDB4\")\n",
    "\n",
    "cmd.show(\"cartoon\", \"PDB1\")\n",
    "# cmd.show(\"sticks\", \"PDB1 and not polymer\")\n",
    "cmd.spectrum(\"b\", f\"0xffffff 0x{color.CS_FG_A[1:]}\", minimum=1, maximum=9, selection=\"polymer\")\n",
    "cmd.png(str(WD / f\"{PDB1.stem}.png\"), width=1000, height=1000, dpi=300)\n",
    "cmd.hide(\"cartoon\", \"PDB1\")\n",
    "cmd.hide(\"sticks\", \"PDB1\")\n",
    "\n",
    "# SM\n",
    "cmd.show(\"cartoon\", \"PDB3\")\n",
    "df = pd.read_csv(\"../../data/GFP/generated/C/SM_10_consurf_grades.csv\")\n",
    "cmd.spectrum(\"b\", f\"0xffffff 0x{color.CS_FG_A[1:]}\", minimum=1, maximum=9, selection=\"polymer\")\n",
    "# for f in df[df[\"F/S\"] == \"f\"][\"POS\"].values:\n",
    "#     cmd.color('0xFF2A00', f'PDB3 and resi {f}')\n",
    "# for f in df[df[\"F/S\"] == \"s\"][\"POS\"].values:\n",
    "#     cmd.color('0x6DFF00', f'PDB3 and resi {f}')\n",
    "cmd.png(str(WD / f\"{PDB3.stem} ({PDB1.stem}).png\"), width=1000, height=1000, dpi=300)\n",
    "cmd.hide(\"cartoon\", \"PDB3\")\n",
    "cmd.hide(\"sticks\", \"PDB3\")\n",
    "\n",
    "# FM\n",
    "cmd.show(\"cartoon\", \"PDB4\")\n",
    "df = pd.read_csv(\"../../data/GFP/generated/C/FM_49_consurf_grades.csv\")\n",
    "cmd.spectrum(\"b\", f\"0xffffff 0x{color.CS_FG_A[1:]}\", minimum=1, maximum=9, selection=\"polymer\")\n",
    "# for f in df[df[\"F/S\"] == \"f\"][\"POS\"].values:\n",
    "#     cmd.color('0xFF2A00', f'PDB4 and resi {f}')\n",
    "# for f in df[df[\"F/S\"] == \"s\"][\"POS\"].values:\n",
    "#     cmd.color('0x6DFF00', f'PDB4 and resi {f}')\n",
    "cmd.png(str(WD / f\"{PDB4.stem} ({PDB1.stem}).png\"), width=1000, height=1000, dpi=300)\n",
    "cmd.hide(\"cartoon\", \"PDB4\")\n",
    "cmd.hide(\"sticks\", \"PDB4\")"
   ],
   "metadata": {
    "collapsed": false,
    "ExecuteTime": {
     "end_time": "2025-05-23T15:32:08.523591Z",
     "start_time": "2025-05-23T15:32:04.290709Z"
    }
   },
   "id": "1aec78b3e8cebec8",
   "execution_count": 4
  },
  {
   "cell_type": "code",
   "outputs": [
    {
     "name": "stdout",
     "output_type": "stream",
     "text": [
      " Ray: render time: 1.64 sec. = 2189.1 frames/hour (15.75 sec. accum.).\n",
      " Ray: render time: 1.51 sec. = 2384.2 frames/hour (17.26 sec. accum.).\n",
      " Ray: render time: 1.49 sec. = 2419.4 frames/hour (18.75 sec. accum.).\n"
     ]
    }
   ],
   "source": [
    "cmd.reinitialize()\n",
    "\n",
    "WD = Path(\"wd/RAS\")\n",
    "PDB1 = WD / \"4OBE.pdb\"\n",
    "PDB3 = WD / \"SM_27_RAS.pdb\"\n",
    "PDB4 = WD / \"FM_13_RAS.pdb\"\n",
    "cmd.load(PDB1, \"PDB1\")\n",
    "cmd.load(PDB3, \"PDB3\")\n",
    "cmd.load(PDB4, \"PDB4\")\n",
    "cmd.remove('PDB1 and chain B')\n",
    "cmd.remove('PDB1 and resn MG')\n",
    "cmd.align(\"PDB3\", \"PDB1\")\n",
    "cmd.align(\"PDB4\", \"PDB1\")\n",
    "\n",
    "cmd.remove(\"solvent\")\n",
    "cmd.set('transparency', 0.5, 'polymer')\n",
    "\n",
    "cmd.zoom(\"all\", buffer=-4)\n",
    "cmd.rotate(\"x\", 100) \n",
    "cmd.rotate(\"y\", -20)\n",
    "cmd.rotate(\"z\", -90)\n",
    "\n",
    "cmd.hide(\"cartoon\", \"PDB1\")\n",
    "cmd.hide(\"cartoon\", \"PDB3\")\n",
    "cmd.hide(\"cartoon\", \"PDB4\")\n",
    "cmd.hide(\"sticks\", \"PDB1\")\n",
    "cmd.hide(\"sticks\", \"PDB3\")\n",
    "cmd.hide(\"sticks\", \"PDB4\")\n",
    "\n",
    "cmd.show(\"cartoon\", \"PDB1\")\n",
    "cmd.show(\"sticks\", \"PDB1 and not polymer\")\n",
    "cmd.show(\"sticks\", \"PDB1 and resi 12\")\n",
    "cmd.show(\"sticks\", \"PDB1 and resi 16\")\n",
    "cmd.show(\"sticks\", \"PDB1 and resi 34\")\n",
    "cmd.spectrum(\"b\", f\"0xffffff 0x{color.CS_FG_A[1:]}\", minimum=1, maximum=9, selection=\"polymer\")\n",
    "cmd.png(str(WD / f\"{PDB1.stem}.png\"), width=1000, height=1000, dpi=300)\n",
    "cmd.hide(\"cartoon\", \"PDB1\")\n",
    "cmd.hide(\"sticks\", \"PDB1\")\n",
    "\n",
    "# SM\n",
    "cmd.show(\"cartoon\", \"PDB3\")\n",
    "df = pd.read_csv(\"../../data/RAS/generated/C/SM_27_consurf_grades.csv\")\n",
    "cmd.spectrum(\"b\", f\"0xffffff 0x{color.CS_FG_A[1:]}\", minimum=1, maximum=9, selection=\"polymer\")\n",
    "# for f in df[df[\"F/S\"] == \"f\"][\"POS\"].values:\n",
    "#     cmd.color('0xFF2A00', f'PDB3 and resi {f}')\n",
    "# for f in df[df[\"F/S\"] == \"s\"][\"POS\"].values:\n",
    "#     cmd.color('0x6DFF00', f'PDB3 and resi {f}')\n",
    "cmd.png(str(WD / f\"{PDB3.stem} ({PDB1.stem}).png\"), width=1000, height=1000, dpi=300)\n",
    "cmd.hide(\"cartoon\", \"PDB3\")\n",
    "cmd.hide(\"sticks\", \"PDB3\")\n",
    "\n",
    "# FM\n",
    "cmd.show(\"cartoon\", \"PDB4\")\n",
    "df = pd.read_csv(\"../../data/RAS/generated/C/FM_13_consurf_grades.csv\")\n",
    "cmd.spectrum(\"b\", f\"0xffffff 0x{color.CS_FG_A[1:]}\", minimum=1, maximum=9, selection=\"polymer\")\n",
    "# for f in df[df[\"F/S\"] == \"f\"][\"POS\"].values:\n",
    "#     cmd.color('0xFF2A00', f'PDB4 and resi {f}')\n",
    "# for f in df[df[\"F/S\"] == \"s\"][\"POS\"].values:\n",
    "#     cmd.color('0x6DFF00', f'PDB4 and resi {f}')\n",
    "cmd.png(str(WD / f\"{PDB4.stem} ({PDB1.stem}).png\"), width=1000, height=1000, dpi=300)\n",
    "cmd.hide(\"cartoon\", \"PDB4\")\n",
    "cmd.hide(\"sticks\", \"PDB4\")"
   ],
   "metadata": {
    "collapsed": false,
    "ExecuteTime": {
     "end_time": "2025-05-23T15:35:45.217100Z",
     "start_time": "2025-05-23T15:35:40.350345Z"
    }
   },
   "id": "ecd3f12c9a0ee018",
   "execution_count": 5
  },
  {
   "cell_type": "code",
   "outputs": [
    {
     "data": {
      "text/plain": "<Figure size 800x140 with 1 Axes>",
      "image/png": "[encoded data removed]"
     },
     "metadata": {},
     "output_type": "display_data"
    }
   ],
   "source": [
    "import matplotlib.pyplot as plt\n",
    "import matplotlib as mpl\n",
    "import matplotlib.colors as mcolors\n",
    "\n",
    "fig, ax = plt.subplots(figsize=(4, 0.7), dpi=200)\n",
    "fig.subplots_adjust(bottom=0.5)\n",
    "\n",
    "cmap = mcolors.LinearSegmentedColormap.from_list(\"ramachandran_cmap\", [\"#eeeeee\", color.CS_FG_A])\n",
    "# cmap = mcolors.LinearSegmentedColormap.from_list(\"ramachandran_cmap\", [color.CS_FG_B, color.CS_FG_A])\n",
    "norm = mpl.colors.Normalize(vmin=0, vmax=9)\n",
    "cb = mpl.colorbar.ColorbarBase(ax, cmap=cmap, norm=norm, orientation='horizontal')\n",
    "cb.set_ticks([])\n",
    "cb.ax.text(0, 1.2, 'variable', transform=cb.ax.transAxes, ha='left', va='bottom', fontsize=13)\n",
    "cb.ax.text(1.0, 1.2, 'conserved', transform=cb.ax.transAxes, ha='right', va='bottom', fontsize=13)\n",
    "plt.show()"
   ],
   "metadata": {
    "collapsed": false,
    "ExecuteTime": {
     "end_time": "2025-05-23T15:35:45.576541Z",
     "start_time": "2025-05-23T15:35:45.218458Z"
    }
   },
   "id": "7aa913065f8d33c8",
   "execution_count": 6
  },
  {
   "cell_type": "code",
   "outputs": [],
   "source": [],
   "metadata": {
    "collapsed": false
   },
   "id": "3d82ea2bd5d0b0e5"
  }
 ],
 "metadata": {
  "kernelspec": {
   "display_name": "Python 3",
   "language": "python",
   "name": "python3"
  },
  "language_info": {
   "codemirror_mode": {
    "name": "ipython",
    "version": 2
   },
   "file_extension": ".py",
   "mimetype": "text/x-python",
   "name": "python",
   "nbconvert_exporter": "python",
   "pygments_lexer": "ipython2",
   "version": "2.7.6"
  }
 },
 "nbformat": 4,
 "nbformat_minor": 5
}
