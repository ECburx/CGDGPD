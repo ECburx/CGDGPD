{
 "cells": [
  {
   "cell_type": "code",
   "execution_count": 9,
   "id": "initial_id",
   "metadata": {
    "collapsed": true,
    "ExecuteTime": {
     "end_time": "2025-04-01T07:18:37.949481Z",
     "start_time": "2025-04-01T07:18:37.946540Z"
    }
   },
   "outputs": [],
   "source": [
    "from pathlib import Path\n",
    "\n",
    "PROTEIN_CLS = \"RAS\"\n",
    "\n",
    "WD = Path(f\"CR/{PROTEIN_CLS}\")\n",
    "WD.mkdir(parents=True, exist_ok=True)"
   ]
  },
  {
   "cell_type": "code",
   "outputs": [],
   "source": [
    "from Bio.Seq import Seq\n",
    "from Bio.SeqRecord import SeqRecord\n",
    "from Bio import SeqIO\n",
    "from time import sleep\n",
    "from selenium.webdriver.common.by import By\n",
    "from selenium import webdriver\n",
    "from selenium.webdriver.support.ui import WebDriverWait\n",
    "from selenium.webdriver.support import expected_conditions as EC\n",
    "\n",
    "\n",
    "def consurf(sid):\n",
    "    # prepare sequences\n",
    "    seq_path = Path(f\"../../data/{PROTEIN_CLS}/generated/Q/{sid}.fasta\")\n",
    "    seqs_path = WD / f\"{sid}.fasta\"\n",
    "    seqs = [SeqIO.read(seq_path, \"fasta\")]\n",
    "    for _, ref in pd.read_csv(\n",
    "            f\"../../data/{PROTEIN_CLS}_ref.csv\"\n",
    "    ).drop_duplicates(subset=['Entry ID'], keep='first').iterrows():\n",
    "        seqs.append(SeqRecord(Seq(ref[\"Sequence\"]), id=ref[\"Entry ID\"], description=\"\"))\n",
    "    with open(seqs_path, \"w\") as f:\n",
    "        SeqIO.write(seqs, f, format=\"fasta\")\n",
    "\n",
    "    # alignment\n",
    "    aln_path = WD / f\"{sid}.aln.fasta\"\n",
    "    !clustalo -i {seqs_path} -o {aln_path} --outfmt=fa\n",
    "\n",
    "    # run consurf\n",
    "    pdb_path = Path(f\"/home/tz365/WS/PROTEVAL/data/{PROTEIN_CLS}/generated/BQ/{sid}.pdb\")\n",
    "\n",
    "    driver = webdriver.Chrome()\n",
    "    driver.get('https://consurf.tau.ac.il/consurf_index.php')\n",
    "    wait = WebDriverWait(driver, 20)\n",
    "\n",
    "    # PAGE 1\n",
    "    wait.until(EC.presence_of_element_located((By.ID, 'browse'))).send_keys(str(pdb_path))\n",
    "    # driver.find_element(By.ID, 'browse').send_keys(str(pdb_path))\n",
    "    wait.until(EC.presence_of_element_located((By.ID, 'JOB_TITLE'))).send_keys(f\"{pdb_path.stem}({PROTEIN_CLS})\")\n",
    "    # driver.find_element(By.ID, 'JOB_TITLE').send_keys(f\"{pdb_path.stem}({PROTEIN_CLS})\")\n",
    "    wait.until(EC.presence_of_element_located((By.ID, 'user_email'))).send_keys(\"ecburxvip@gmail.com\")\n",
    "    # driver.find_element(By.ID, 'user_email').send_keys(\"ecburxvip@gmail.com\")\n",
    "    sleep(10)\n",
    "    wait.until(EC.element_to_be_clickable((By.XPATH, \"//input[@value='Select Run Parameters Manually']\"))).click()\n",
    "    # driver.find_element(By.XPATH, \"//input[@value='Select Run Parameters Manually']\").click()\n",
    "\n",
    "    # PAGE 2\n",
    "    wait.until(EC.presence_of_element_located((By.ID, 'browse1'))).send_keys(str(aln_path.absolute()))\n",
    "    sleep(10)\n",
    "    wait.until(EC.element_to_be_clickable((By.CSS_SELECTOR, \"div.dropdown-select\"))).click()\n",
    "    wait.until(EC.element_to_be_clickable((By.XPATH, f\"//li[@data-value='{sid}']\"))).click()\n",
    "    wait.until(EC.element_to_be_clickable((By.XPATH, \"//input[@value='Submit']\"))).click()\n",
    "\n",
    "    # PAGE 3\n",
    "    url = driver.current_url\n",
    "    print(f\"'{sid}': '{url}',\")\n",
    "    driver.close()\n",
    "    return url"
   ],
   "metadata": {
    "collapsed": false,
    "ExecuteTime": {
     "end_time": "2025-04-01T07:18:38.608472Z",
     "start_time": "2025-04-01T07:18:38.604531Z"
    }
   },
   "id": "63675ae2eb1e9834",
   "execution_count": 10
  },
  {
   "cell_type": "code",
   "outputs": [
    {
     "data": {
      "text/plain": "{'FM_0': None,\n 'FM_1': None,\n 'FM_2': None,\n 'FM_3': None,\n 'FM_4': None,\n 'FM_5': None,\n 'FM_6': None,\n 'FM_7': None,\n 'FM_8': None,\n 'FM_9': None,\n 'FM_10': None,\n 'FM_11': None,\n 'FM_12': None,\n 'FM_13': None,\n 'FM_14': None,\n 'FM_15': None,\n 'FM_16': None,\n 'FM_17': None,\n 'FM_18': None,\n 'FM_19': None,\n 'FM_20': None,\n 'FM_21': None,\n 'FM_22': None,\n 'FM_23': None,\n 'FM_24': None,\n 'FM_25': None,\n 'FM_26': None,\n 'FM_27': None,\n 'FM_28': None,\n 'FM_29': None,\n 'FM_30': None,\n 'FM_31': None,\n 'FM_32': None,\n 'FM_33': None,\n 'FM_34': None,\n 'FM_35': None,\n 'FM_36': None,\n 'FM_37': None,\n 'FM_38': None,\n 'FM_39': None,\n 'FM_40': None,\n 'FM_41': None,\n 'FM_42': None,\n 'FM_43': None,\n 'FM_44': None,\n 'FM_45': None,\n 'FM_46': None,\n 'FM_47': None,\n 'FM_48': None,\n 'FM_49': None}"
     },
     "execution_count": 12,
     "metadata": {},
     "output_type": "execute_result"
    }
   ],
   "source": [
    "urls = {\n",
    "    (sid := f\"FM_{i}\"): consurf(sid)\n",
    "    for i in range(0, 50)\n",
    "}\n",
    "urls"
   ],
   "metadata": {
    "collapsed": false,
    "ExecuteTime": {
     "end_time": "2025-04-01T07:38:01.630117Z",
     "start_time": "2025-04-01T07:37:10.435352Z"
    }
   },
   "id": "a6d4e80201acfae3",
   "execution_count": 12
  },
  {
   "cell_type": "code",
   "outputs": [],
   "source": [
    "# urls = {\n",
    "# }\n",
    "\n",
    "def retrieve(sid, url):\n",
    "    driver = webdriver.Chrome()\n",
    "    driver.get(url)\n",
    "    driver.find_element(By.LINK_TEXT, \"Go To The Results\").click()\n",
    "    sleep(2)\n",
    "    driver.find_element(By.XPATH, f\"//a[contains(@href, '{sid}_consurf_grades.txt')]\").click()\n",
    "    sleep(5)\n",
    "    driver.close()\n",
    "\n",
    "\n",
    "for k, v in urls.items():\n",
    "    retrieve(k, v)"
   ],
   "metadata": {
    "collapsed": false
   },
   "id": "8d958d3dddb51418",
   "execution_count": null
  },
  {
   "cell_type": "code",
   "outputs": [],
   "source": [
    "import pandas as pd\n",
    "import re\n",
    "from pathlib import Path\n",
    "\n",
    "PROTEIN_CLS = \"RAS\"\n",
    "\n",
    "Path(f\"CR2/{PROTEIN_CLS}\").mkdir(parents=True, exist_ok=True)\n",
    "\n",
    "for src in Path(f\"CR/{PROTEIN_CLS}\").glob(\"*.txt\"):\n",
    "    dst = f\"CR2/{PROTEIN_CLS}/{src.name}\"\n",
    "    with open(src, 'r', encoding='utf-8') as f:\n",
    "        lines = f.readlines()\n",
    "    with open(dst, 'w', encoding='utf-8') as f:\n",
    "        f.writelines(lines[29:len(lines) - 4])"
   ],
   "metadata": {
    "collapsed": false
   },
   "id": "477bc1b07d4d8c1f",
   "execution_count": null
  },
  {
   "cell_type": "code",
   "outputs": [],
   "source": [
    "Path(f\"../../data/{PROTEIN_CLS}/generated/C/\").mkdir(parents=True, exist_ok=True)\n",
    "\n",
    "for path in Path(f\"CR2/{PROTEIN_CLS}\").glob(\"*.txt\"):\n",
    "    data = []\n",
    "    start = False\n",
    "    with open(path, 'r') as f:\n",
    "        for line in f:\n",
    "            parts = line.split()\n",
    "            pos = parts[0]\n",
    "            seq = parts[1]\n",
    "            atom = parts[2]\n",
    "            score = float(parts[3])\n",
    "            color = int(re.findall(r'\\d+', parts[4])[0])\n",
    "            confidence_interval = (\n",
    "                float(parts[5].split(',')[0]), float(parts[6]), *[int(i) for i in parts[7].split(\",\")])\n",
    "            be = parts[8]\n",
    "            if parts[9] == \"f\" or parts[9] == \"s\":\n",
    "                fs = parts[9]\n",
    "                msa_data = parts[10]\n",
    "                residue_variety = \" \".join(parts[11:])\n",
    "            else:\n",
    "                fs = \"\"\n",
    "                msa_data = parts[9]\n",
    "                residue_variety = \" \".join(parts[10:])\n",
    "            data.append([pos, seq, atom, score, color, confidence_interval, be, fs, msa_data, residue_variety])\n",
    "\n",
    "        pd.DataFrame(\n",
    "            data,\n",
    "            columns=[\n",
    "                \"POS\", \"SEQ\", \"ATOM\", \"SCORE\", \"COLOR\",\n",
    "                \"CONFIDENCE_INTERVAL\", \"B/E\", \"F/S\", \"MSA DATA\", \"RESIDUE_VARIETY\"\n",
    "            ]).to_csv(f\"../data/{PROTEIN_CLS}/generated/C/{path.stem}.csv\", index=False)"
   ],
   "metadata": {
    "collapsed": false
   },
   "id": "d643711c7b0e5d68"
  }
 ],
 "metadata": {
  "kernelspec": {
   "display_name": "Python 3",
   "language": "python",
   "name": "python3"
  },
  "language_info": {
   "codemirror_mode": {
    "name": "ipython",
    "version": 2
   },
   "file_extension": ".py",
   "mimetype": "text/x-python",
   "name": "python",
   "nbconvert_exporter": "python",
   "pygments_lexer": "ipython2",
   "version": "2.7.6"
  }
 },
 "nbformat": 4,
 "nbformat_minor": 5
}
